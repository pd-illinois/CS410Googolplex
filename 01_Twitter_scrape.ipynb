{
 "cells": [
  {
   "cell_type": "markdown",
   "metadata": {},
   "source": [
    "**1. Raw Data Capture**\n",
    "\n",
    "We used SNSCRAPE for capturing the tweets. The tweets were captures in 5 parts. We captured 20000 tweets per month from July, August, September and October to 8th November (Midterm Election Day in US). In addition we also captured another set of 20000 tweets across July to 8th November to get a generalized data (tweets_knn.csv)\n",
    "\n",
    "**2. Ingestion and Storage**\n",
    "\n",
    "All the 100000 tweets are available in Data Folder as tweets_all.csv file. Due to the performance limitation of local machines, we reduced the dataset for KNN and limited it to 20000 tweets accross the July - Nov timeframe.\n",
    "\n",
    "**This is a one time activity and does not require re download** . We will be using tweets_all.csv as our initial data source for this project. In case of KNN, we had to take a smaller sample set of 20000 Tweets ( tweets_knn.csv ) as the training times for KNN was pretty huge with a dataset of 100000 tweets.\n",
    "\n",
    "**NOTE** : Multiple CSV were combined to one CSV and named tweets_all.csv manually. If you plan to run the script below , please ensure you use the right file name after consolidation. However since **tweets_all.csv** already exists in this github repository , please use that."
   ]
  },
  {
   "cell_type": "code",
   "execution_count": 1,
   "metadata": {},
   "outputs": [],
   "source": [
    "#libraries needed\n",
    "import pandas as pd\n",
    "import snscrape.modules.twitter as sntwitter\n",
    "import numpy as np\n",
    "\n",
    "import string\n",
    "import re\n",
    "\n",
    "import warnings\n",
    "%matplotlib inline"
   ]
  },
  {
   "cell_type": "code",
   "execution_count": 7,
   "metadata": {},
   "outputs": [],
   "source": [
    "# Run this code only once. If sentiments.csv  / tweets_all.csv exists in the working directly , no need to run this again.\n",
    "# July - Aug\n",
    "\n",
    "query = \"(democrats OR republican OR vote OR voting OR #ElectionDay OR electionday OR Election OR #election2022 OR midterms OR #midterm2022 OR #vote2022 OR #GOP ) since:2022-07-01 until:2022-08-01\"\n",
    "tweets = []\n",
    "for i, tweet in enumerate(sntwitter.TwitterSearchScraper(query).get_items()):\n",
    "    if i>20000:\n",
    "        break\n",
    "    else:\n",
    "        tweets.append([tweet.date, tweet.id, tweet.url, tweet.user.username, tweet.sourceLabel, tweet.user.location, tweet.content, tweet.likeCount, tweet.retweetCount])\n",
    "df = pd.DataFrame(tweets, columns = ['Date', 'ID', 'url', 'username', 'source', 'location', 'tweet', 'num_of_likes', 'num_of_retweet'])\n",
    "df.to_csv('sentiment_118_1.csv', mode = 'a')"
   ]
  },
  {
   "cell_type": "code",
   "execution_count": 8,
   "metadata": {},
   "outputs": [],
   "source": [
    "# Run this code only once. If sentiments.csv  / tweets_all.csv exists in the working directly , no need to run this again.\n",
    "# Aug - Sep\n",
    "\n",
    "query = \"(democrats OR republican OR vote OR voting OR #ElectionDay OR electionday OR Election OR #election2022 OR midterms OR #midterm2022 OR #vote2022 OR #GOP ) since:2022-08-01 until:2022-09-01\"\n",
    "tweets = []\n",
    "for i, tweet in enumerate(sntwitter.TwitterSearchScraper(query).get_items()):\n",
    "    if i>20000:\n",
    "        break\n",
    "    else:\n",
    "        tweets.append([tweet.date, tweet.id, tweet.url, tweet.user.username, tweet.sourceLabel, tweet.user.location, tweet.content, tweet.likeCount, tweet.retweetCount])\n",
    "df = pd.DataFrame(tweets, columns = ['Date', 'ID', 'url', 'username', 'source', 'location', 'tweet', 'num_of_likes', 'num_of_retweet'])\n",
    "df.to_csv('sentiment_118_2.csv', mode = 'a')"
   ]
  },
  {
   "cell_type": "code",
   "execution_count": 9,
   "metadata": {},
   "outputs": [],
   "source": [
    "# Run this code only once. If sentiments.csv  / tweets_all.csv exists in the working directly , no need to run this again.\n",
    "# Sep - Oct\n",
    "\n",
    "query = \"(democrats OR republican OR vote OR voting OR #ElectionDay OR electionday OR Election OR #election2022 OR midterms OR #midterm2022 OR #vote2022 OR #GOP ) since:2022-09-01 until:2022-10-01\"\n",
    "tweets = []\n",
    "for i, tweet in enumerate(sntwitter.TwitterSearchScraper(query).get_items()):\n",
    "    if i>20000:\n",
    "        break\n",
    "    else:\n",
    "        tweets.append([tweet.date, tweet.id, tweet.url, tweet.user.username, tweet.sourceLabel, tweet.user.location, tweet.content, tweet.likeCount, tweet.retweetCount])\n",
    "df = pd.DataFrame(tweets, columns = ['Date', 'ID', 'url', 'username', 'source', 'location', 'tweet', 'num_of_likes', 'num_of_retweet'])\n",
    "df.to_csv('sentiment_118_3.csv', mode = 'a')"
   ]
  },
  {
   "cell_type": "code",
   "execution_count": 6,
   "metadata": {},
   "outputs": [],
   "source": [
    "# Run this code only once. If sentiments.csv  / tweets_all.csv exists in the working directly , no need to run this again.\n",
    "# Oct - Nov\n",
    "\n",
    "query = \"(democrats OR republican OR vote OR #ElectionDay OR electionday OR Election OR #election2022 OR midterms OR #midterm2022 OR #vote2022 OR #GOP ) since:2022-07-01 until:2022-11-08\"\n",
    "tweets = []\n",
    "for i, tweet in enumerate(sntwitter.TwitterSearchScraper(query).get_items()):\n",
    "    if i>100000:\n",
    "        break\n",
    "    else:\n",
    "        tweets.append([tweet.date, tweet.id, tweet.user.location, tweet.content, tweet.likeCount, tweet.retweetCount, tweet.lang])\n",
    "df = pd.DataFrame(tweets, columns = ['Date', 'ID', 'location', 'tweet', 'num_of_likes', 'num_of_retweet', 'language'])\n",
    "df.to_csv('tweets_new.csv', mode = 'a')"
   ]
  },
  {
   "cell_type": "code",
   "execution_count": 4,
   "metadata": {},
   "outputs": [],
   "source": [
    "# Run this code only once. If sentiments.csv  / tweets_all.csv exists in the working directly , no need to run this again.\n",
    "# July-Nov\n",
    "\n",
    "query = \"(democrats OR republican OR vote OR voting OR #ElectionDay OR electionday OR Election OR #election2022 OR midterms OR #midterm2022 OR #vote2022 OR #GOP ) since:2022-07-01 until:2022-11-08\"\n",
    "tweets = []\n",
    "for i, tweet in enumerate(sntwitter.TwitterSearchScraper(query).get_items()):\n",
    "    if i>20000:\n",
    "        break\n",
    "    else:\n",
    "        tweets.append([tweet.date, tweet.id, tweet.user.location, tweet.content, tweet.likeCount, tweet.retweetCount, tweet.lang])\n",
    "df = pd.DataFrame(tweets, columns = ['Date', 'ID', 'location', 'tweet', 'num_of_likes', 'num_of_retweet', 'language'])\n",
    "df.to_csv('data/tweets_knn.csv', mode = 'a')"
   ]
  }
 ],
 "metadata": {
  "kernelspec": {
   "display_name": "Python 3.9.12 64-bit ('base': conda)",
   "language": "python",
   "name": "python3"
  },
  "language_info": {
   "codemirror_mode": {
    "name": "ipython",
    "version": 3
   },
   "file_extension": ".py",
   "mimetype": "text/x-python",
   "name": "python",
   "nbconvert_exporter": "python",
   "pygments_lexer": "ipython3",
   "version": "3.9.12"
  },
  "orig_nbformat": 4,
  "vscode": {
   "interpreter": {
    "hash": "2e25ac0a2ec4bd15a326cc0293192c3a8a84da789cecae9df6446c66fd6bfd19"
   }
  }
 },
 "nbformat": 4,
 "nbformat_minor": 2
}
