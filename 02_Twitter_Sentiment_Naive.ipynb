{
 "cells": [
  {
   "cell_type": "markdown",
   "metadata": {},
   "source": [
    "**3. NLP Pipeline**\n",
    "\n",
    "\n",
    "**-Sentiment Analysis and predictions using Naive Bayes Classification**\n",
    "\n"
   ]
  },
  {
   "cell_type": "code",
   "execution_count": 1,
   "metadata": {},
   "outputs": [
    {
     "name": "stderr",
     "output_type": "stream",
     "text": [
      "c:\\Users\\pdhiman\\Anaconda3\\lib\\site-packages\\scipy\\__init__.py:146: UserWarning: A NumPy version >=1.16.5 and <1.23.0 is required for this version of SciPy (detected version 1.23.4\n",
      "  warnings.warn(f\"A NumPy version >={np_minversion} and <{np_maxversion}\"\n",
      "[nltk_data] Downloading package stopwords to\n",
      "[nltk_data]     C:\\Users\\pdhiman\\AppData\\Roaming\\nltk_data...\n",
      "[nltk_data]   Package stopwords is already up-to-date!\n",
      "[nltk_data] Downloading package punkt to\n",
      "[nltk_data]     C:\\Users\\pdhiman\\AppData\\Roaming\\nltk_data...\n",
      "[nltk_data]   Package punkt is already up-to-date!\n",
      "[nltk_data] Downloading package wordnet to\n",
      "[nltk_data]     C:\\Users\\pdhiman\\AppData\\Roaming\\nltk_data...\n",
      "[nltk_data]   Package wordnet is already up-to-date!\n",
      "[nltk_data] Downloading package omw-1.4 to\n",
      "[nltk_data]     C:\\Users\\pdhiman\\AppData\\Roaming\\nltk_data...\n",
      "[nltk_data]   Package omw-1.4 is already up-to-date!\n",
      "[nltk_data] Downloading package words to\n",
      "[nltk_data]     C:\\Users\\pdhiman\\AppData\\Roaming\\nltk_data...\n",
      "[nltk_data]   Package words is already up-to-date!\n"
     ]
    }
   ],
   "source": [
    "# Import Libraries\n",
    "\n",
    "import pandas as pd\n",
    "import snscrape.modules.twitter as sntwitter\n",
    "import numpy as np\n",
    "import matplotlib.pyplot as plt\n",
    "import seaborn as sns\n",
    "\n",
    "\n",
    "import nltk\n",
    "nltk.download('stopwords') \n",
    "nltk.download('punkt')\n",
    "nltk.download('wordnet')\n",
    "nltk.download('omw-1.4')\n",
    "nltk.download('words')\n",
    "\n",
    "from nltk.corpus import stopwords \n",
    "from nltk.tokenize import word_tokenize \n",
    "from nltk.stem import WordNetLemmatizer\n",
    "from nltk.stem.porter import PorterStemmer\n",
    "import gensim.downloader as api\n",
    "\n",
    "import string\n",
    "import re\n",
    "import textblob\n",
    "from textblob import TextBlob\n",
    "\n",
    "from wordcloud import WordCloud, STOPWORDS\n",
    "from emot.emo_unicode import UNICODE_EMOJI\n",
    "\n",
    "porter = PorterStemmer()\n",
    "\n",
    "lemmatizer = WordNetLemmatizer() \n",
    "\n",
    "from wordcloud import ImageColorGenerator\n",
    "from PIL import Image\n",
    "\n",
    "import warnings\n",
    "%matplotlib inline\n"
   ]
  },
  {
   "cell_type": "markdown",
   "metadata": {},
   "source": [
    "**Data Preprocessing**"
   ]
  },
  {
   "cell_type": "code",
   "execution_count": 2,
   "metadata": {},
   "outputs": [
    {
     "data": {
      "text/html": [
       "<div>\n",
       "<style scoped>\n",
       "    .dataframe tbody tr th:only-of-type {\n",
       "        vertical-align: middle;\n",
       "    }\n",
       "\n",
       "    .dataframe tbody tr th {\n",
       "        vertical-align: top;\n",
       "    }\n",
       "\n",
       "    .dataframe thead th {\n",
       "        text-align: right;\n",
       "    }\n",
       "</style>\n",
       "<table border=\"1\" class=\"dataframe\">\n",
       "  <thead>\n",
       "    <tr style=\"text-align: right;\">\n",
       "      <th></th>\n",
       "      <th>Unnamed: 0</th>\n",
       "      <th>Date</th>\n",
       "      <th>ID</th>\n",
       "      <th>location</th>\n",
       "      <th>tweet</th>\n",
       "      <th>num_of_likes</th>\n",
       "      <th>num_of_retweet</th>\n",
       "      <th>language</th>\n",
       "    </tr>\n",
       "  </thead>\n",
       "  <tbody>\n",
       "    <tr>\n",
       "      <th>0</th>\n",
       "      <td>0</td>\n",
       "      <td>2022-11-07 23:59:59+00:00</td>\n",
       "      <td>1589769667765469186</td>\n",
       "      <td>California, USA</td>\n",
       "      <td>Taking into account personal contributions &amp;am...</td>\n",
       "      <td>2</td>\n",
       "      <td>1</td>\n",
       "      <td>en</td>\n",
       "    </tr>\n",
       "    <tr>\n",
       "      <th>1</th>\n",
       "      <td>1</td>\n",
       "      <td>2022-11-07 23:59:59+00:00</td>\n",
       "      <td>1589769667652235267</td>\n",
       "      <td>@jlo follows ♡ 01.29.21</td>\n",
       "      <td>whats your fav song?\\n\\n❥ I’m voting #Jennifer...</td>\n",
       "      <td>0</td>\n",
       "      <td>10</td>\n",
       "      <td>en</td>\n",
       "    </tr>\n",
       "    <tr>\n",
       "      <th>2</th>\n",
       "      <td>2</td>\n",
       "      <td>2022-11-07 23:59:59+00:00</td>\n",
       "      <td>1589769667127934977</td>\n",
       "      <td>NaN</td>\n",
       "      <td>@MayoIsSpicyy He is allowed to speak his opini...</td>\n",
       "      <td>0</td>\n",
       "      <td>0</td>\n",
       "      <td>en</td>\n",
       "    </tr>\n",
       "    <tr>\n",
       "      <th>3</th>\n",
       "      <td>3</td>\n",
       "      <td>2022-11-07 23:59:59+00:00</td>\n",
       "      <td>1589769666918244352</td>\n",
       "      <td>USA</td>\n",
       "      <td>HEY NY DISTRICT 10! PLEASE VOTE FOR @danielsgo...</td>\n",
       "      <td>1</td>\n",
       "      <td>1</td>\n",
       "      <td>en</td>\n",
       "    </tr>\n",
       "    <tr>\n",
       "      <th>4</th>\n",
       "      <td>4</td>\n",
       "      <td>2022-11-07 23:59:59+00:00</td>\n",
       "      <td>1589769666679144448</td>\n",
       "      <td>DMV</td>\n",
       "      <td>@YDanasmithdutra @BaddCompani @politicalblond ...</td>\n",
       "      <td>3</td>\n",
       "      <td>0</td>\n",
       "      <td>en</td>\n",
       "    </tr>\n",
       "  </tbody>\n",
       "</table>\n",
       "</div>"
      ],
      "text/plain": [
       "   Unnamed: 0                       Date                   ID  \\\n",
       "0           0  2022-11-07 23:59:59+00:00  1589769667765469186   \n",
       "1           1  2022-11-07 23:59:59+00:00  1589769667652235267   \n",
       "2           2  2022-11-07 23:59:59+00:00  1589769667127934977   \n",
       "3           3  2022-11-07 23:59:59+00:00  1589769666918244352   \n",
       "4           4  2022-11-07 23:59:59+00:00  1589769666679144448   \n",
       "\n",
       "                  location                                              tweet  \\\n",
       "0          California, USA  Taking into account personal contributions &am...   \n",
       "1  @jlo follows ♡ 01.29.21  whats your fav song?\\n\\n❥ I’m voting #Jennifer...   \n",
       "2                      NaN  @MayoIsSpicyy He is allowed to speak his opini...   \n",
       "3                     USA   HEY NY DISTRICT 10! PLEASE VOTE FOR @danielsgo...   \n",
       "4                      DMV  @YDanasmithdutra @BaddCompani @politicalblond ...   \n",
       "\n",
       "   num_of_likes  num_of_retweet language  \n",
       "0             2               1       en  \n",
       "1             0              10       en  \n",
       "2             0               0       en  \n",
       "3             1               1       en  \n",
       "4             3               0       en  "
      ]
     },
     "execution_count": 2,
     "metadata": {},
     "output_type": "execute_result"
    }
   ],
   "source": [
    "# Loading All the tweets \n",
    "\n",
    "df = pd.read_csv('data/tweets_final.csv')\n",
    "df.head()"
   ]
  },
  {
   "cell_type": "code",
   "execution_count": 3,
   "metadata": {},
   "outputs": [
    {
     "data": {
      "text/plain": [
       "7809"
      ]
     },
     "execution_count": 3,
     "metadata": {},
     "output_type": "execute_result"
    }
   ],
   "source": [
    "### Data Cleaning \n",
    "\n",
    "# Checking Locations which are NaN\n",
    "df.location.isna().sum()"
   ]
  },
  {
   "cell_type": "code",
   "execution_count": 4,
   "metadata": {},
   "outputs": [
    {
     "data": {
      "text/html": [
       "<div>\n",
       "<style scoped>\n",
       "    .dataframe tbody tr th:only-of-type {\n",
       "        vertical-align: middle;\n",
       "    }\n",
       "\n",
       "    .dataframe tbody tr th {\n",
       "        vertical-align: top;\n",
       "    }\n",
       "\n",
       "    .dataframe thead th {\n",
       "        text-align: right;\n",
       "    }\n",
       "</style>\n",
       "<table border=\"1\" class=\"dataframe\">\n",
       "  <thead>\n",
       "    <tr style=\"text-align: right;\">\n",
       "      <th></th>\n",
       "      <th>Unnamed: 0</th>\n",
       "      <th>Date</th>\n",
       "      <th>ID</th>\n",
       "      <th>location</th>\n",
       "      <th>tweet</th>\n",
       "      <th>num_of_likes</th>\n",
       "      <th>num_of_retweet</th>\n",
       "      <th>language</th>\n",
       "    </tr>\n",
       "  </thead>\n",
       "  <tbody>\n",
       "    <tr>\n",
       "      <th>0</th>\n",
       "      <td>0</td>\n",
       "      <td>2022-11-07 23:59:59+00:00</td>\n",
       "      <td>1589769667765469186</td>\n",
       "      <td>California, USA</td>\n",
       "      <td>Taking into account personal contributions &amp;am...</td>\n",
       "      <td>2</td>\n",
       "      <td>1</td>\n",
       "      <td>en</td>\n",
       "    </tr>\n",
       "    <tr>\n",
       "      <th>1</th>\n",
       "      <td>1</td>\n",
       "      <td>2022-11-07 23:59:59+00:00</td>\n",
       "      <td>1589769667652235267</td>\n",
       "      <td>@jlo follows ♡ 01.29.21</td>\n",
       "      <td>whats your fav song?\\n\\n❥ I’m voting #Jennifer...</td>\n",
       "      <td>0</td>\n",
       "      <td>10</td>\n",
       "      <td>en</td>\n",
       "    </tr>\n",
       "    <tr>\n",
       "      <th>2</th>\n",
       "      <td>2</td>\n",
       "      <td>2022-11-07 23:59:59+00:00</td>\n",
       "      <td>1589769667127934977</td>\n",
       "      <td>Unknown</td>\n",
       "      <td>@MayoIsSpicyy He is allowed to speak his opini...</td>\n",
       "      <td>0</td>\n",
       "      <td>0</td>\n",
       "      <td>en</td>\n",
       "    </tr>\n",
       "    <tr>\n",
       "      <th>3</th>\n",
       "      <td>3</td>\n",
       "      <td>2022-11-07 23:59:59+00:00</td>\n",
       "      <td>1589769666918244352</td>\n",
       "      <td>USA</td>\n",
       "      <td>HEY NY DISTRICT 10! PLEASE VOTE FOR @danielsgo...</td>\n",
       "      <td>1</td>\n",
       "      <td>1</td>\n",
       "      <td>en</td>\n",
       "    </tr>\n",
       "    <tr>\n",
       "      <th>4</th>\n",
       "      <td>4</td>\n",
       "      <td>2022-11-07 23:59:59+00:00</td>\n",
       "      <td>1589769666679144448</td>\n",
       "      <td>DMV</td>\n",
       "      <td>@YDanasmithdutra @BaddCompani @politicalblond ...</td>\n",
       "      <td>3</td>\n",
       "      <td>0</td>\n",
       "      <td>en</td>\n",
       "    </tr>\n",
       "  </tbody>\n",
       "</table>\n",
       "</div>"
      ],
      "text/plain": [
       "   Unnamed: 0                       Date                   ID  \\\n",
       "0           0  2022-11-07 23:59:59+00:00  1589769667765469186   \n",
       "1           1  2022-11-07 23:59:59+00:00  1589769667652235267   \n",
       "2           2  2022-11-07 23:59:59+00:00  1589769667127934977   \n",
       "3           3  2022-11-07 23:59:59+00:00  1589769666918244352   \n",
       "4           4  2022-11-07 23:59:59+00:00  1589769666679144448   \n",
       "\n",
       "                  location                                              tweet  \\\n",
       "0          California, USA  Taking into account personal contributions &am...   \n",
       "1  @jlo follows ♡ 01.29.21  whats your fav song?\\n\\n❥ I’m voting #Jennifer...   \n",
       "2                  Unknown  @MayoIsSpicyy He is allowed to speak his opini...   \n",
       "3                     USA   HEY NY DISTRICT 10! PLEASE VOTE FOR @danielsgo...   \n",
       "4                      DMV  @YDanasmithdutra @BaddCompani @politicalblond ...   \n",
       "\n",
       "   num_of_likes  num_of_retweet language  \n",
       "0             2               1       en  \n",
       "1             0              10       en  \n",
       "2             0               0       en  \n",
       "3             1               1       en  \n",
       "4             3               0       en  "
      ]
     },
     "execution_count": 4,
     "metadata": {},
     "output_type": "execute_result"
    }
   ],
   "source": [
    "### Data Cleaning \n",
    "\n",
    "# Replacing NaN location values with Unknown\n",
    "df['location'] = df['location'].fillna('Unknown')\n",
    "df.head()"
   ]
  },
  {
   "cell_type": "code",
   "execution_count": 5,
   "metadata": {},
   "outputs": [
    {
     "data": {
      "text/html": [
       "<div>\n",
       "<style scoped>\n",
       "    .dataframe tbody tr th:only-of-type {\n",
       "        vertical-align: middle;\n",
       "    }\n",
       "\n",
       "    .dataframe tbody tr th {\n",
       "        vertical-align: top;\n",
       "    }\n",
       "\n",
       "    .dataframe thead th {\n",
       "        text-align: right;\n",
       "    }\n",
       "</style>\n",
       "<table border=\"1\" class=\"dataframe\">\n",
       "  <thead>\n",
       "    <tr style=\"text-align: right;\">\n",
       "      <th></th>\n",
       "      <th>Unnamed: 0</th>\n",
       "      <th>Date</th>\n",
       "      <th>ID</th>\n",
       "      <th>location</th>\n",
       "      <th>tweet</th>\n",
       "      <th>num_of_likes</th>\n",
       "      <th>num_of_retweet</th>\n",
       "      <th>language</th>\n",
       "    </tr>\n",
       "  </thead>\n",
       "  <tbody>\n",
       "    <tr>\n",
       "      <th>0</th>\n",
       "      <td>0</td>\n",
       "      <td>2022-11-07 23:59:59+00:00</td>\n",
       "      <td>1589769667765469186</td>\n",
       "      <td>California, USA</td>\n",
       "      <td>Taking into account personal contributions &amp;am...</td>\n",
       "      <td>2</td>\n",
       "      <td>1</td>\n",
       "      <td>en</td>\n",
       "    </tr>\n",
       "    <tr>\n",
       "      <th>1</th>\n",
       "      <td>1</td>\n",
       "      <td>2022-11-07 23:59:59+00:00</td>\n",
       "      <td>1589769667652235267</td>\n",
       "      <td>@jlo follows ♡ 01.29.21</td>\n",
       "      <td>whats your fav song?\\n\\n❥ I’m voting #Jennifer...</td>\n",
       "      <td>0</td>\n",
       "      <td>10</td>\n",
       "      <td>en</td>\n",
       "    </tr>\n",
       "    <tr>\n",
       "      <th>2</th>\n",
       "      <td>2</td>\n",
       "      <td>2022-11-07 23:59:59+00:00</td>\n",
       "      <td>1589769667127934977</td>\n",
       "      <td>Unknown</td>\n",
       "      <td>@MayoIsSpicyy He is allowed to speak his opini...</td>\n",
       "      <td>0</td>\n",
       "      <td>0</td>\n",
       "      <td>en</td>\n",
       "    </tr>\n",
       "    <tr>\n",
       "      <th>3</th>\n",
       "      <td>3</td>\n",
       "      <td>2022-11-07 23:59:59+00:00</td>\n",
       "      <td>1589769666918244352</td>\n",
       "      <td>USA</td>\n",
       "      <td>HEY NY DISTRICT 10! PLEASE VOTE FOR @danielsgo...</td>\n",
       "      <td>1</td>\n",
       "      <td>1</td>\n",
       "      <td>en</td>\n",
       "    </tr>\n",
       "    <tr>\n",
       "      <th>4</th>\n",
       "      <td>4</td>\n",
       "      <td>2022-11-07 23:59:59+00:00</td>\n",
       "      <td>1589769666679144448</td>\n",
       "      <td>DMV</td>\n",
       "      <td>@YDanasmithdutra @BaddCompani @politicalblond ...</td>\n",
       "      <td>3</td>\n",
       "      <td>0</td>\n",
       "      <td>en</td>\n",
       "    </tr>\n",
       "  </tbody>\n",
       "</table>\n",
       "</div>"
      ],
      "text/plain": [
       "   Unnamed: 0                       Date                   ID  \\\n",
       "0           0  2022-11-07 23:59:59+00:00  1589769667765469186   \n",
       "1           1  2022-11-07 23:59:59+00:00  1589769667652235267   \n",
       "2           2  2022-11-07 23:59:59+00:00  1589769667127934977   \n",
       "3           3  2022-11-07 23:59:59+00:00  1589769666918244352   \n",
       "4           4  2022-11-07 23:59:59+00:00  1589769666679144448   \n",
       "\n",
       "                  location                                              tweet  \\\n",
       "0          California, USA  Taking into account personal contributions &am...   \n",
       "1  @jlo follows ♡ 01.29.21  whats your fav song?\\n\\n❥ I’m voting #Jennifer...   \n",
       "2                  Unknown  @MayoIsSpicyy He is allowed to speak his opini...   \n",
       "3                     USA   HEY NY DISTRICT 10! PLEASE VOTE FOR @danielsgo...   \n",
       "4                      DMV  @YDanasmithdutra @BaddCompani @politicalblond ...   \n",
       "\n",
       "   num_of_likes  num_of_retweet language  \n",
       "0             2               1       en  \n",
       "1             0              10       en  \n",
       "2             0               0       en  \n",
       "3             1               1       en  \n",
       "4             3               0       en  "
      ]
     },
     "execution_count": 5,
     "metadata": {},
     "output_type": "execute_result"
    }
   ],
   "source": [
    "### Data Cleaning \n",
    "\n",
    "# Dropping non english tweets.\n",
    "\n",
    "df.drop(df[(df['language'] != 'en')].index, inplace=True)\n",
    "df.head()"
   ]
  },
  {
   "cell_type": "code",
   "execution_count": 6,
   "metadata": {},
   "outputs": [],
   "source": [
    "### Data Cleaning \n",
    "\n",
    "# Removing Emojis , URLs, @ , Stopwords etc.\n",
    "\n",
    "words = set(nltk.corpus.words.words())\n",
    "eng_stopwords = []\n",
    "with open('data/stopwords.txt','r') as file:    \n",
    "      for line in file:         \n",
    "          for sw in line.split():            \n",
    "              eng_stopwords.append(sw)\n",
    "emoji = list(UNICODE_EMOJI.keys())\n",
    "\n",
    "def ProcessedTweets(text):\n",
    "    text = text.lower()  #changing tweet text to small letters \n",
    "    text = ' '.join(re.sub(\"(@[A-Za-z0-9]+)|([^0-9A-Za-z \\t]) |(\\w+:\\/\\/\\S+)\", \" \", text).split()) # Removing @ and links\n",
    "    text = re.sub(r'\\@\\w+|\\#\\w+|\\d+', '', text) # removing repeating characters\n",
    "    punct = str.maketrans('', '', string.punctuation+string.digits) # removing punctuation and numbers\n",
    "    text = text.translate(punct)\n",
    "    \n",
    "    tokens = word_tokenize(text)  # tokenizing words and removing stop words from the tweet text\n",
    "    filtered_words = [w for w in tokens if w not in eng_stopwords] #check for stopwords, remove them\n",
    "    filtered_words = [w for w in filtered_words if w not in emoji] #remove emoji\n",
    "\n",
    "    #also removed the words not in NLTK words dictionary of set(nltk.corpus.words.words())\n",
    "    filtered_words1 = [w2 for w2 in filtered_words if w2 in words or w2 in {'democrats', 'dem', 'dems'}]\n",
    "    #check for synonyms using wordnet \n",
    "    \n",
    "    # lemmetizing words\n",
    "    #lemmatizer = WordNetLemmatizer() \n",
    "    #lemma_words = [lemmatizer.lemmatize(w) for w in filtered_words]\n",
    "    #text = \" \".join(lemma_words)\n",
    "    \n",
    "    text = \" \".join(filtered_words1) #without wordnet and lemmatizing\n",
    "    return text\n"
   ]
  },
  {
   "cell_type": "code",
   "execution_count": null,
   "metadata": {},
   "outputs": [],
   "source": [
    "df['Processed_Tweets'] = df['tweet'].apply(ProcessedTweets)"
   ]
  },
  {
   "cell_type": "markdown",
   "metadata": {},
   "source": [
    "**Sentiment Analysis**\n"
   ]
  },
  {
   "cell_type": "code",
   "execution_count": 7,
   "metadata": {},
   "outputs": [],
   "source": [
    "def polarity(tweet):\n",
    "    return TextBlob(tweet).sentiment.polarity\n",
    "\n",
    "#decide the polarity of sentiments using this textblob function, difficult to do it for 20,000 tweets manually.\n",
    "def sentimenttextblob(polarity):\n",
    "    if polarity < 0:\n",
    "        return -1 \n",
    "        #\"Negative\"\n",
    "    elif polarity == 0:\n",
    "        return 0 \n",
    "        #\"Neutral\"\n",
    "    else:\n",
    "        return 1 \n",
    "        #\"Positive\" "
   ]
  },
  {
   "cell_type": "code",
   "execution_count": 9,
   "metadata": {},
   "outputs": [
    {
     "data": {
      "text/plain": [
       " 0    8337\n",
       " 1    7169\n",
       "-1    3180\n",
       "Name: Sentiment, dtype: int64"
      ]
     },
     "execution_count": 9,
     "metadata": {},
     "output_type": "execute_result"
    }
   ],
   "source": [
    "# using the functions to get the polarity and sentiment\n",
    "df['Polarity'] = df['Processed_Tweets'].apply(polarity)\n",
    "df['Sentiment'] = df['Polarity'].apply(sentimenttextblob)\n",
    "sentiments = df['Sentiment'].value_counts()\n",
    "sentiments"
   ]
  },
  {
   "cell_type": "code",
   "execution_count": 10,
   "metadata": {},
   "outputs": [
    {
     "data": {
      "text/plain": [
       "([<matplotlib.patches.Wedge at 0x23f8a57ed90>,\n",
       "  <matplotlib.patches.Wedge at 0x23f8a564370>,\n",
       "  <matplotlib.patches.Wedge at 0x23f8a564c40>],\n",
       " [Text(-1.0999839696622016, -0.0059385592684765955, 'Neutral'),\n",
       "  Text(0.949509958327149, -0.5553655004027311, 'Positive'),\n",
       "  Text(0.3876108820444823, 1.0294453866624973, 'Negative')],\n",
       " [Text(-0.5999912561793825, -0.003239214146441779, '44.6%'),\n",
       "  Text(0.5179145227238994, -0.3029266365833078, '38.4%'),\n",
       "  Text(0.2114241174788085, 0.5615156654522712, '17.0%')])"
      ]
     },
     "execution_count": 10,
     "metadata": {},
     "output_type": "execute_result"
    },
    {
     "data": {
      "image/png": "[encoded data removed]",
      "text/plain": [
       "<Figure size 432x288 with 1 Axes>"
      ]
     },
     "metadata": {},
     "output_type": "display_data"
    }
   ],
   "source": [
    "labels = ['Neutral', 'Positive', 'Negative']\n",
    "fig1, ax1 = plt.subplots()\n",
    "ax1.pie(sentiments, labels=labels, autopct='%1.1f%%',\n",
    "        shadow=True, startangle=100)"
   ]
  },
  {
   "cell_type": "markdown",
   "metadata": {},
   "source": [
    "**Preparing for NB**"
   ]
  },
  {
   "cell_type": "markdown",
   "metadata": {},
   "source": [
    "**CountVectorizer** creates a matrix in which each unique word is represented by a column of the matrix, and each text sample \n",
    "#from the document is a row in the matrix. The value of each cell is nothing but the count of the word in that particular \n",
    "#text sample\n",
    "#how many times given words were found in the document.\n",
    "#sparse matrix\n",
    "\n",
    "#document[0]\t0\t0\t0\t1\t1\t0\t0\t1\t0\t1\t0\t1\n",
    "\n",
    "#document[1]\t0\t0\t1\t0\t2\t0\t1\t0\t0\t0\t0\t1\n",
    "\n",
    "#document[2]\t1\t1\t0\t1\t1\t1\t0\t1\t1\t0\t1\t0"
   ]
  },
  {
   "cell_type": "code",
   "execution_count": 11,
   "metadata": {},
   "outputs": [],
   "source": [
    "from sklearn.feature_extraction.text import CountVectorizer\n",
    "from nltk.tokenize import RegexpTokenizer\n",
    "from sklearn.model_selection import train_test_split\n",
    "from sklearn import metrics\n",
    "from sklearn.naive_bayes import MultinomialNB"
   ]
  },
  {
   "cell_type": "code",
   "execution_count": 12,
   "metadata": {},
   "outputs": [],
   "source": [
    "#Initializing lists to be used in plotting later.\n",
    "accuracy_ngrams = []\n",
    "recall_ngrams = []\n",
    "precion_ngrams = []\n",
    "f1_ngrams = []"
   ]
  },
  {
   "cell_type": "code",
   "execution_count": 13,
   "metadata": {},
   "outputs": [],
   "source": [
    "def naivebayesCV():\n",
    "    #training and testing feature vectors\n",
    "    \n",
    "    for n in [1,2,3,5]:\n",
    "        token = RegexpTokenizer(r'[a-zA-Z0-9]+')\n",
    "        cv = CountVectorizer(stop_words='english',ngram_range = (n,n), tokenizer = token.tokenize)\n",
    "        text_counts = cv.fit_transform(df['Processed_Tweets'])\n",
    "\n",
    "        X_train, X_test, Y_train, Y_test = train_test_split(text_counts, df['Sentiment'], test_size=0.25, random_state=5)\n",
    "\n",
    "        MNB = MultinomialNB()\n",
    "        MNB.fit(X_train, Y_train)\n",
    "        \n",
    "        predicted = MNB.predict(X_test)\n",
    "        \n",
    "        accuracy_score = (metrics.accuracy_score(Y_test,predicted))\n",
    "        accuracy_score = (round(accuracy_score,2))*100\n",
    "        accuracy_ngrams.append(accuracy_score)\n",
    "\n",
    "        precision = (metrics.precision_score(Y_test, predicted, average='macro'))\n",
    "        precision = (round(precision,2))*100\n",
    "        precion_ngrams.append(precision)\n",
    "\n",
    "        recall = (metrics.recall_score(Y_test, predicted, average='macro'))\n",
    "        recall = (round(recall,2))*100\n",
    "        recall_ngrams.append(recall)\n",
    "\n",
    "        f1 = (metrics.f1_score(Y_test, predicted, average='macro'))\n",
    "        f1 = (round(f1,2))*100\n",
    "        f1_ngrams.append(f1)\n",
    "\n",
    "        #print(\"\\n\\nConfusion Matrix for k = {} is:\\n\".format(k))\n",
    "        #print(confusion_mat)\n",
    "        #print(\"\\nClassification Report for k = {} is:\\n\".format(k))\n",
    "        #print(class_report)\n",
    "        print(\"Accuracy Score for ngrams = {0} is: {1}%\".format(n,accuracy_score))\n",
    "        print(\"Recall for ngrams = {0} is: {1}%\".format(n,recall))\n",
    "        print(\"Precision for ngrams = {0} is: {1}%\".format(n,precision))\n",
    "        print(\"F1-score for ngrams = {0} is: {1}%\".format(n,f1))"
   ]
  },
  {
   "cell_type": "code",
   "execution_count": 14,
   "metadata": {},
   "outputs": [
    {
     "name": "stdout",
     "output_type": "stream",
     "text": [
      "Accuracy Score for ngrams = 1 is: 82.0%\n",
      "Recall for ngrams = 1 is: 78.0%\n",
      "Precision for ngrams = 1 is: 79.0%\n",
      "F1-score for ngrams = 1 is: 78.0%\n",
      "Accuracy Score for ngrams = 2 is: 62.0%\n",
      "Recall for ngrams = 2 is: 53.0%\n",
      "Precision for ngrams = 2 is: 61.0%\n",
      "F1-score for ngrams = 2 is: 53.0%\n",
      "Accuracy Score for ngrams = 3 is: 52.0%\n",
      "Recall for ngrams = 3 is: 41.0%\n",
      "Precision for ngrams = 3 is: 67.0%\n",
      "F1-score for ngrams = 3 is: 36.0%\n",
      "Accuracy Score for ngrams = 5 is: 49.0%\n",
      "Recall for ngrams = 5 is: 38.0%\n",
      "Precision for ngrams = 5 is: 80.0%\n",
      "F1-score for ngrams = 5 is: 28.999999999999996%\n"
     ]
    }
   ],
   "source": [
    "naivebayesCV()"
   ]
  },
  {
   "cell_type": "code",
   "execution_count": 15,
   "metadata": {},
   "outputs": [
    {
     "data": {
      "text/plain": [
       "<function matplotlib.pyplot.show(close=None, block=None)>"
      ]
     },
     "execution_count": 15,
     "metadata": {},
     "output_type": "execute_result"
    },
    {
     "data": {
      "image/png": "[encoded data removed]",
      "text/plain": [
       "<Figure size 864x720 with 4 Axes>"
      ]
     },
     "metadata": {
      "needs_background": "light"
     },
     "output_type": "display_data"
    }
   ],
   "source": [
    "#print(accuracy_ngrams)\n",
    "ngrams = [1,2,3,5] \n",
    "\n",
    "fig = plt.figure(figsize=(12,10))\n",
    "\n",
    "plt.subplot(2,2,1)\n",
    "plt.plot(ngrams, accuracy_ngrams)\n",
    "plt.title(\"Accuracy n-grams increase\",fontsize='x-large')\n",
    "plt.xlabel(\"n-grams\",fontsize='large')\n",
    "plt.ylabel(\"Accuracy\",fontsize='large')\n",
    "\n",
    "plt.subplot(2,2,2)\n",
    "plt.plot(ngrams,recall_ngrams)\n",
    "plt.title(\"Recall n-grams increase\",fontsize='x-large')\n",
    "plt.xlabel(\"n-grams\",fontsize='large')\n",
    "plt.ylabel(\"Recall\",fontsize='large')\n",
    "\n",
    "plt.subplot(2,2,3)\n",
    "plt.plot(ngrams,precion_ngrams)\n",
    "plt.title(\"Precision n-grams increase\",fontsize='x-large')\n",
    "plt.xlabel(\"n-grams\",fontsize='large')\n",
    "plt.ylabel(\"Precision\",fontsize='large')\n",
    "\n",
    "plt.subplot(2,2,4)\n",
    "plt.plot(ngrams,f1_ngrams)\n",
    "plt.title(\"F1 n-grams increase\",fontsize='x-large')\n",
    "plt.xlabel(\"n-grams\",fontsize='large')\n",
    "plt.ylabel(\"F1\",fontsize='large')\n",
    "\n",
    "fig.subplots_adjust(hspace=0.5)\n",
    "\n",
    "plt.show"
   ]
  },
  {
   "cell_type": "code",
   "execution_count": 16,
   "metadata": {},
   "outputs": [],
   "source": [
    "accuracy_ngrams = []\n",
    "recall_ngrams = []\n",
    "precion_ngrams = []\n",
    "f1_ngrams = []"
   ]
  },
  {
   "cell_type": "code",
   "execution_count": 17,
   "metadata": {},
   "outputs": [],
   "source": [
    "from sklearn.feature_extraction.text import TfidfVectorizer\n",
    "def naivebayesTFIDF():\n",
    "    #training and testing feature vectors\n",
    "    \n",
    "    for n in [1,2,3,5]:\n",
    "        token = RegexpTokenizer(r'[a-zA-Z0-9]+')\n",
    "        tfidf = TfidfVectorizer(stop_words='english',ngram_range = (n,n), analyzer='word', use_idf=True)#tokenizer = token.tokenize)\n",
    "        text_count2 = tfidf.fit_transform(df['Processed_Tweets'])\n",
    "\n",
    "        X_train, X_test, Y_train, Y_test = train_test_split(text_count2, df['Sentiment'], test_size=0.25, random_state=5)\n",
    "\n",
    "        MNB = MultinomialNB()\n",
    "        MNB.fit(X_train, Y_train)\n",
    "        \n",
    "        predicted = MNB.predict(X_test)\n",
    "        \n",
    "        accuracy_score = (metrics.accuracy_score(Y_test,predicted))\n",
    "        accuracy_score = (round(accuracy_score,2))*100\n",
    "        accuracy_ngrams.append(accuracy_score)\n",
    "\n",
    "        precision = (metrics.precision_score(Y_test, predicted, average='macro'))\n",
    "        precision = (round(precision,2))*100\n",
    "        precion_ngrams.append(precision)\n",
    "\n",
    "        recall = (metrics.recall_score(Y_test, predicted, average='macro'))\n",
    "        recall = (round(recall,2))*100\n",
    "        recall_ngrams.append(recall)\n",
    "\n",
    "        f1 = (metrics.f1_score(Y_test, predicted, average='macro'))\n",
    "        f1 = (round(f1,2))*100\n",
    "        f1_ngrams.append(f1)\n",
    "\n",
    "        #print(\"\\n\\nConfusion Matrix for k = {} is:\\n\".format(k))\n",
    "        #print(confusion_mat)\n",
    "        #print(\"\\nClassification Report for k = {} is:\\n\".format(k))\n",
    "        #print(class_report)\n",
    "        print(\"Accuracy Score for ngrams = {0} is: {1}%\".format(n,accuracy_score))\n",
    "        print(\"Recall for ngrams = {0} is: {1}%\".format(n,recall))\n",
    "        print(\"Precision for ngrams = {0} is: {1}%\".format(n,precision))\n",
    "        print(\"F1-score for ngrams = {0} is: {1}%\".format(n,f1))"
   ]
  },
  {
   "cell_type": "code",
   "execution_count": 18,
   "metadata": {},
   "outputs": [
    {
     "name": "stdout",
     "output_type": "stream",
     "text": [
      "Accuracy Score for ngrams = 1 is: 77.0%\n",
      "Recall for ngrams = 1 is: 66.0%\n",
      "Precision for ngrams = 1 is: 83.0%\n",
      "F1-score for ngrams = 1 is: 65.0%\n",
      "Accuracy Score for ngrams = 2 is: 60.0%\n",
      "Recall for ngrams = 2 is: 47.0%\n",
      "Precision for ngrams = 2 is: 78.0%\n",
      "F1-score for ngrams = 2 is: 43.0%\n",
      "Accuracy Score for ngrams = 3 is: 52.0%\n",
      "Recall for ngrams = 3 is: 40.0%\n",
      "Precision for ngrams = 3 is: 78.0%\n",
      "F1-score for ngrams = 3 is: 33.0%\n",
      "Accuracy Score for ngrams = 5 is: 48.0%\n",
      "Recall for ngrams = 5 is: 37.0%\n",
      "Precision for ngrams = 5 is: 82.0%\n",
      "F1-score for ngrams = 5 is: 27.0%\n"
     ]
    }
   ],
   "source": [
    "naivebayesTFIDF()"
   ]
  },
  {
   "cell_type": "code",
   "execution_count": 19,
   "metadata": {},
   "outputs": [
    {
     "data": {
      "text/plain": [
       "<function matplotlib.pyplot.show(close=None, block=None)>"
      ]
     },
     "execution_count": 19,
     "metadata": {},
     "output_type": "execute_result"
    },
    {
     "data": {
      "image/png": "[encoded data removed]",
      "text/plain": [
       "<Figure size 864x576 with 4 Axes>"
      ]
     },
     "metadata": {
      "needs_background": "light"
     },
     "output_type": "display_data"
    }
   ],
   "source": [
    "#print(accuracy_ngrams)\n",
    "ngrams = [1,2,3,5] \n",
    "\n",
    "fig = plt.figure(figsize=(12,8))\n",
    "\n",
    "plt.subplot(2,2,1)\n",
    "plt.plot(ngrams, accuracy_ngrams)\n",
    "plt.title(\"Accuracy n-grams increase\",fontsize='x-large')\n",
    "plt.xlabel(\"n-grams\",fontsize='large')\n",
    "plt.ylabel(\"Accuracy\",fontsize='large')\n",
    "\n",
    "plt.subplot(2,2,2)\n",
    "plt.plot(ngrams,recall_ngrams)\n",
    "plt.title(\"Recall n-grams increase\",fontsize='x-large')\n",
    "plt.xlabel(\"n-grams\",fontsize='large')\n",
    "plt.ylabel(\"Recall\",fontsize='large')\n",
    "\n",
    "plt.subplot(2,2,3)\n",
    "plt.plot(ngrams,precion_ngrams)\n",
    "plt.title(\"Precision n-grams increase\",fontsize='x-large')\n",
    "plt.xlabel(\"n-grams\",fontsize='large')\n",
    "plt.ylabel(\"Precision\",fontsize='large')\n",
    "\n",
    "plt.subplot(2,2,4)\n",
    "plt.plot(ngrams,f1_ngrams)\n",
    "plt.title(\"F1 n-grams increase\",fontsize='x-large')\n",
    "plt.xlabel(\"n-grams\",fontsize='large')\n",
    "plt.ylabel(\"F1\",fontsize='large')\n",
    "\n",
    "fig.subplots_adjust(hspace=.5)\n",
    "\n",
    "plt.show"
   ]
  }
 ],
 "metadata": {
  "kernelspec": {
   "display_name": "Python 3",
   "language": "python",
   "name": "python3"
  },
  "language_info": {
   "codemirror_mode": {
    "name": "ipython",
    "version": 3
   },
   "file_extension": ".py",
   "mimetype": "text/x-python",
   "name": "python",
   "nbconvert_exporter": "python",
   "pygments_lexer": "ipython3",
   "version": "3.9.12"
  },
  "vscode": {
   "interpreter": {
    "hash": "2e25ac0a2ec4bd15a326cc0293192c3a8a84da789cecae9df6446c66fd6bfd19"
   }
  }
 },
 "nbformat": 4,
 "nbformat_minor": 2
}
