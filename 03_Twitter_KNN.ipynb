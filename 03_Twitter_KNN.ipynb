{
 "cells": [
  {
   "cell_type": "markdown",
   "metadata": {},
   "source": [
    "**3. NLP Pipeline**\n",
    "\n",
    "**- Sentiment Analysis and prediction using K Nearest Neighbor**\n"
   ]
  },
  {
   "cell_type": "code",
   "execution_count": 1,
   "metadata": {},
   "outputs": [
    {
     "name": "stderr",
     "output_type": "stream",
     "text": [
      "c:\\Users\\pdhiman\\Anaconda3\\lib\\site-packages\\scipy\\__init__.py:146: UserWarning: A NumPy version >=1.16.5 and <1.23.0 is required for this version of SciPy (detected version 1.23.4\n",
      "  warnings.warn(f\"A NumPy version >={np_minversion} and <{np_maxversion}\"\n",
      "[nltk_data] Downloading package stopwords to\n",
      "[nltk_data]     C:\\Users\\pdhiman\\AppData\\Roaming\\nltk_data...\n",
      "[nltk_data]   Package stopwords is already up-to-date!\n",
      "[nltk_data] Downloading package punkt to\n",
      "[nltk_data]     C:\\Users\\pdhiman\\AppData\\Roaming\\nltk_data...\n",
      "[nltk_data]   Package punkt is already up-to-date!\n",
      "[nltk_data] Downloading package wordnet to\n",
      "[nltk_data]     C:\\Users\\pdhiman\\AppData\\Roaming\\nltk_data...\n",
      "[nltk_data]   Package wordnet is already up-to-date!\n",
      "[nltk_data] Downloading package omw-1.4 to\n",
      "[nltk_data]     C:\\Users\\pdhiman\\AppData\\Roaming\\nltk_data...\n",
      "[nltk_data]   Package omw-1.4 is already up-to-date!\n",
      "[nltk_data] Downloading package words to\n",
      "[nltk_data]     C:\\Users\\pdhiman\\AppData\\Roaming\\nltk_data...\n",
      "[nltk_data]   Package words is already up-to-date!\n"
     ]
    }
   ],
   "source": [
    "# Import Libraries\n",
    "\n",
    "import numpy as np\n",
    "import pandas as pd\n",
    "import scipy\n",
    "import itertools\n",
    "import matplotlib\n",
    "import matplotlib.pyplot as plt\n",
    "from scipy.spatial.distance import cdist\n",
    "from math import sqrt\n",
    "from collections import Counter\n",
    "from random import choice\n",
    "import nltk\n",
    "from nltk.corpus import stopwords \n",
    "from nltk.corpus import wordnet\n",
    "from nltk.tokenize import word_tokenize \n",
    "from nltk.stem import WordNetLemmatizer\n",
    "from nltk.stem.porter import PorterStemmer\n",
    "\n",
    "nltk.download('stopwords')\n",
    "nltk.download('punkt')\n",
    "nltk.download('wordnet')\n",
    "nltk.download('omw-1.4')\n",
    "nltk.download('words')\n",
    "\n",
    "import string\n",
    "import re\n",
    "import textblob\n",
    "from textblob import TextBlob\n",
    "\n",
    "from wordcloud import WordCloud, STOPWORDS\n",
    "from emot.emo_unicode import UNICODE_EMOJI\n",
    "\n",
    "porter = PorterStemmer()\n",
    "\n",
    "lemmatizer = WordNetLemmatizer() \n",
    "\n",
    "from wordcloud import ImageColorGenerator\n",
    "from PIL import Image\n",
    "\n",
    "import warnings\n",
    "%matplotlib inline\n",
    "\n"
   ]
  },
  {
   "cell_type": "markdown",
   "metadata": {},
   "source": [
    "**Data Preprocessing**"
   ]
  },
  {
   "cell_type": "code",
   "execution_count": 2,
   "metadata": {},
   "outputs": [
    {
     "data": {
      "text/html": [
       "<div>\n",
       "<style scoped>\n",
       "    .dataframe tbody tr th:only-of-type {\n",
       "        vertical-align: middle;\n",
       "    }\n",
       "\n",
       "    .dataframe tbody tr th {\n",
       "        vertical-align: top;\n",
       "    }\n",
       "\n",
       "    .dataframe thead th {\n",
       "        text-align: right;\n",
       "    }\n",
       "</style>\n",
       "<table border=\"1\" class=\"dataframe\">\n",
       "  <thead>\n",
       "    <tr style=\"text-align: right;\">\n",
       "      <th></th>\n",
       "      <th>Unnamed: 0</th>\n",
       "      <th>Date</th>\n",
       "      <th>ID</th>\n",
       "      <th>location</th>\n",
       "      <th>tweet</th>\n",
       "      <th>num_of_likes</th>\n",
       "      <th>num_of_retweet</th>\n",
       "      <th>language</th>\n",
       "    </tr>\n",
       "  </thead>\n",
       "  <tbody>\n",
       "    <tr>\n",
       "      <th>0</th>\n",
       "      <td>0</td>\n",
       "      <td>2022-11-07 23:59:59+00:00</td>\n",
       "      <td>1589769667765469186</td>\n",
       "      <td>California, USA</td>\n",
       "      <td>Taking into account personal contributions &amp;am...</td>\n",
       "      <td>2</td>\n",
       "      <td>1</td>\n",
       "      <td>en</td>\n",
       "    </tr>\n",
       "    <tr>\n",
       "      <th>1</th>\n",
       "      <td>1</td>\n",
       "      <td>2022-11-07 23:59:59+00:00</td>\n",
       "      <td>1589769667652235267</td>\n",
       "      <td>@jlo follows ♡ 01.29.21</td>\n",
       "      <td>whats your fav song?\\n\\n❥ I’m voting #Jennifer...</td>\n",
       "      <td>0</td>\n",
       "      <td>10</td>\n",
       "      <td>en</td>\n",
       "    </tr>\n",
       "    <tr>\n",
       "      <th>2</th>\n",
       "      <td>2</td>\n",
       "      <td>2022-11-07 23:59:59+00:00</td>\n",
       "      <td>1589769667127934977</td>\n",
       "      <td>NaN</td>\n",
       "      <td>@MayoIsSpicyy He is allowed to speak his opini...</td>\n",
       "      <td>0</td>\n",
       "      <td>0</td>\n",
       "      <td>en</td>\n",
       "    </tr>\n",
       "    <tr>\n",
       "      <th>3</th>\n",
       "      <td>3</td>\n",
       "      <td>2022-11-07 23:59:59+00:00</td>\n",
       "      <td>1589769666918244352</td>\n",
       "      <td>USA</td>\n",
       "      <td>HEY NY DISTRICT 10! PLEASE VOTE FOR @danielsgo...</td>\n",
       "      <td>1</td>\n",
       "      <td>1</td>\n",
       "      <td>en</td>\n",
       "    </tr>\n",
       "    <tr>\n",
       "      <th>4</th>\n",
       "      <td>4</td>\n",
       "      <td>2022-11-07 23:59:59+00:00</td>\n",
       "      <td>1589769666679144448</td>\n",
       "      <td>DMV</td>\n",
       "      <td>@YDanasmithdutra @BaddCompani @politicalblond ...</td>\n",
       "      <td>3</td>\n",
       "      <td>0</td>\n",
       "      <td>en</td>\n",
       "    </tr>\n",
       "  </tbody>\n",
       "</table>\n",
       "</div>"
      ],
      "text/plain": [
       "   Unnamed: 0                       Date                   ID  \\\n",
       "0           0  2022-11-07 23:59:59+00:00  1589769667765469186   \n",
       "1           1  2022-11-07 23:59:59+00:00  1589769667652235267   \n",
       "2           2  2022-11-07 23:59:59+00:00  1589769667127934977   \n",
       "3           3  2022-11-07 23:59:59+00:00  1589769666918244352   \n",
       "4           4  2022-11-07 23:59:59+00:00  1589769666679144448   \n",
       "\n",
       "                  location                                              tweet  \\\n",
       "0          California, USA  Taking into account personal contributions &am...   \n",
       "1  @jlo follows ♡ 01.29.21  whats your fav song?\\n\\n❥ I’m voting #Jennifer...   \n",
       "2                      NaN  @MayoIsSpicyy He is allowed to speak his opini...   \n",
       "3                     USA   HEY NY DISTRICT 10! PLEASE VOTE FOR @danielsgo...   \n",
       "4                      DMV  @YDanasmithdutra @BaddCompani @politicalblond ...   \n",
       "\n",
       "   num_of_likes  num_of_retweet language  \n",
       "0             2               1       en  \n",
       "1             0              10       en  \n",
       "2             0               0       en  \n",
       "3             1               1       en  \n",
       "4             3               0       en  "
      ]
     },
     "execution_count": 2,
     "metadata": {},
     "output_type": "execute_result"
    }
   ],
   "source": [
    "# Loading All the tweets \n",
    "\n",
    "df = pd.read_csv('data/tweets_final.csv')\n",
    "df.head()"
   ]
  },
  {
   "cell_type": "code",
   "execution_count": 3,
   "metadata": {},
   "outputs": [
    {
     "data": {
      "text/plain": [
       "7809"
      ]
     },
     "execution_count": 3,
     "metadata": {},
     "output_type": "execute_result"
    }
   ],
   "source": [
    "### Data Cleaning \n",
    "\n",
    "# Checking Locations which are NaN\n",
    "df.location.isna().sum()"
   ]
  },
  {
   "cell_type": "code",
   "execution_count": 4,
   "metadata": {},
   "outputs": [
    {
     "data": {
      "text/html": [
       "<div>\n",
       "<style scoped>\n",
       "    .dataframe tbody tr th:only-of-type {\n",
       "        vertical-align: middle;\n",
       "    }\n",
       "\n",
       "    .dataframe tbody tr th {\n",
       "        vertical-align: top;\n",
       "    }\n",
       "\n",
       "    .dataframe thead th {\n",
       "        text-align: right;\n",
       "    }\n",
       "</style>\n",
       "<table border=\"1\" class=\"dataframe\">\n",
       "  <thead>\n",
       "    <tr style=\"text-align: right;\">\n",
       "      <th></th>\n",
       "      <th>Unnamed: 0</th>\n",
       "      <th>Date</th>\n",
       "      <th>ID</th>\n",
       "      <th>location</th>\n",
       "      <th>tweet</th>\n",
       "      <th>num_of_likes</th>\n",
       "      <th>num_of_retweet</th>\n",
       "      <th>language</th>\n",
       "    </tr>\n",
       "  </thead>\n",
       "  <tbody>\n",
       "    <tr>\n",
       "      <th>0</th>\n",
       "      <td>0</td>\n",
       "      <td>2022-11-07 23:59:59+00:00</td>\n",
       "      <td>1589769667765469186</td>\n",
       "      <td>California, USA</td>\n",
       "      <td>Taking into account personal contributions &amp;am...</td>\n",
       "      <td>2</td>\n",
       "      <td>1</td>\n",
       "      <td>en</td>\n",
       "    </tr>\n",
       "    <tr>\n",
       "      <th>1</th>\n",
       "      <td>1</td>\n",
       "      <td>2022-11-07 23:59:59+00:00</td>\n",
       "      <td>1589769667652235267</td>\n",
       "      <td>@jlo follows ♡ 01.29.21</td>\n",
       "      <td>whats your fav song?\\n\\n❥ I’m voting #Jennifer...</td>\n",
       "      <td>0</td>\n",
       "      <td>10</td>\n",
       "      <td>en</td>\n",
       "    </tr>\n",
       "    <tr>\n",
       "      <th>2</th>\n",
       "      <td>2</td>\n",
       "      <td>2022-11-07 23:59:59+00:00</td>\n",
       "      <td>1589769667127934977</td>\n",
       "      <td>Unknown</td>\n",
       "      <td>@MayoIsSpicyy He is allowed to speak his opini...</td>\n",
       "      <td>0</td>\n",
       "      <td>0</td>\n",
       "      <td>en</td>\n",
       "    </tr>\n",
       "    <tr>\n",
       "      <th>3</th>\n",
       "      <td>3</td>\n",
       "      <td>2022-11-07 23:59:59+00:00</td>\n",
       "      <td>1589769666918244352</td>\n",
       "      <td>USA</td>\n",
       "      <td>HEY NY DISTRICT 10! PLEASE VOTE FOR @danielsgo...</td>\n",
       "      <td>1</td>\n",
       "      <td>1</td>\n",
       "      <td>en</td>\n",
       "    </tr>\n",
       "    <tr>\n",
       "      <th>4</th>\n",
       "      <td>4</td>\n",
       "      <td>2022-11-07 23:59:59+00:00</td>\n",
       "      <td>1589769666679144448</td>\n",
       "      <td>DMV</td>\n",
       "      <td>@YDanasmithdutra @BaddCompani @politicalblond ...</td>\n",
       "      <td>3</td>\n",
       "      <td>0</td>\n",
       "      <td>en</td>\n",
       "    </tr>\n",
       "  </tbody>\n",
       "</table>\n",
       "</div>"
      ],
      "text/plain": [
       "   Unnamed: 0                       Date                   ID  \\\n",
       "0           0  2022-11-07 23:59:59+00:00  1589769667765469186   \n",
       "1           1  2022-11-07 23:59:59+00:00  1589769667652235267   \n",
       "2           2  2022-11-07 23:59:59+00:00  1589769667127934977   \n",
       "3           3  2022-11-07 23:59:59+00:00  1589769666918244352   \n",
       "4           4  2022-11-07 23:59:59+00:00  1589769666679144448   \n",
       "\n",
       "                  location                                              tweet  \\\n",
       "0          California, USA  Taking into account personal contributions &am...   \n",
       "1  @jlo follows ♡ 01.29.21  whats your fav song?\\n\\n❥ I’m voting #Jennifer...   \n",
       "2                  Unknown  @MayoIsSpicyy He is allowed to speak his opini...   \n",
       "3                     USA   HEY NY DISTRICT 10! PLEASE VOTE FOR @danielsgo...   \n",
       "4                      DMV  @YDanasmithdutra @BaddCompani @politicalblond ...   \n",
       "\n",
       "   num_of_likes  num_of_retweet language  \n",
       "0             2               1       en  \n",
       "1             0              10       en  \n",
       "2             0               0       en  \n",
       "3             1               1       en  \n",
       "4             3               0       en  "
      ]
     },
     "execution_count": 4,
     "metadata": {},
     "output_type": "execute_result"
    }
   ],
   "source": [
    "### Data Cleaning \n",
    "\n",
    "# Replacing NaN location values with Unknown\n",
    "df['location'] = df['location'].fillna('Unknown')\n",
    "df.head()"
   ]
  },
  {
   "cell_type": "code",
   "execution_count": 5,
   "metadata": {},
   "outputs": [
    {
     "data": {
      "text/html": [
       "<div>\n",
       "<style scoped>\n",
       "    .dataframe tbody tr th:only-of-type {\n",
       "        vertical-align: middle;\n",
       "    }\n",
       "\n",
       "    .dataframe tbody tr th {\n",
       "        vertical-align: top;\n",
       "    }\n",
       "\n",
       "    .dataframe thead th {\n",
       "        text-align: right;\n",
       "    }\n",
       "</style>\n",
       "<table border=\"1\" class=\"dataframe\">\n",
       "  <thead>\n",
       "    <tr style=\"text-align: right;\">\n",
       "      <th></th>\n",
       "      <th>Unnamed: 0</th>\n",
       "      <th>Date</th>\n",
       "      <th>ID</th>\n",
       "      <th>location</th>\n",
       "      <th>tweet</th>\n",
       "      <th>num_of_likes</th>\n",
       "      <th>num_of_retweet</th>\n",
       "      <th>language</th>\n",
       "    </tr>\n",
       "  </thead>\n",
       "  <tbody>\n",
       "    <tr>\n",
       "      <th>0</th>\n",
       "      <td>0</td>\n",
       "      <td>2022-11-07 23:59:59+00:00</td>\n",
       "      <td>1589769667765469186</td>\n",
       "      <td>California, USA</td>\n",
       "      <td>Taking into account personal contributions &amp;am...</td>\n",
       "      <td>2</td>\n",
       "      <td>1</td>\n",
       "      <td>en</td>\n",
       "    </tr>\n",
       "    <tr>\n",
       "      <th>1</th>\n",
       "      <td>1</td>\n",
       "      <td>2022-11-07 23:59:59+00:00</td>\n",
       "      <td>1589769667652235267</td>\n",
       "      <td>@jlo follows ♡ 01.29.21</td>\n",
       "      <td>whats your fav song?\\n\\n❥ I’m voting #Jennifer...</td>\n",
       "      <td>0</td>\n",
       "      <td>10</td>\n",
       "      <td>en</td>\n",
       "    </tr>\n",
       "    <tr>\n",
       "      <th>2</th>\n",
       "      <td>2</td>\n",
       "      <td>2022-11-07 23:59:59+00:00</td>\n",
       "      <td>1589769667127934977</td>\n",
       "      <td>Unknown</td>\n",
       "      <td>@MayoIsSpicyy He is allowed to speak his opini...</td>\n",
       "      <td>0</td>\n",
       "      <td>0</td>\n",
       "      <td>en</td>\n",
       "    </tr>\n",
       "    <tr>\n",
       "      <th>3</th>\n",
       "      <td>3</td>\n",
       "      <td>2022-11-07 23:59:59+00:00</td>\n",
       "      <td>1589769666918244352</td>\n",
       "      <td>USA</td>\n",
       "      <td>HEY NY DISTRICT 10! PLEASE VOTE FOR @danielsgo...</td>\n",
       "      <td>1</td>\n",
       "      <td>1</td>\n",
       "      <td>en</td>\n",
       "    </tr>\n",
       "    <tr>\n",
       "      <th>4</th>\n",
       "      <td>4</td>\n",
       "      <td>2022-11-07 23:59:59+00:00</td>\n",
       "      <td>1589769666679144448</td>\n",
       "      <td>DMV</td>\n",
       "      <td>@YDanasmithdutra @BaddCompani @politicalblond ...</td>\n",
       "      <td>3</td>\n",
       "      <td>0</td>\n",
       "      <td>en</td>\n",
       "    </tr>\n",
       "  </tbody>\n",
       "</table>\n",
       "</div>"
      ],
      "text/plain": [
       "   Unnamed: 0                       Date                   ID  \\\n",
       "0           0  2022-11-07 23:59:59+00:00  1589769667765469186   \n",
       "1           1  2022-11-07 23:59:59+00:00  1589769667652235267   \n",
       "2           2  2022-11-07 23:59:59+00:00  1589769667127934977   \n",
       "3           3  2022-11-07 23:59:59+00:00  1589769666918244352   \n",
       "4           4  2022-11-07 23:59:59+00:00  1589769666679144448   \n",
       "\n",
       "                  location                                              tweet  \\\n",
       "0          California, USA  Taking into account personal contributions &am...   \n",
       "1  @jlo follows ♡ 01.29.21  whats your fav song?\\n\\n❥ I’m voting #Jennifer...   \n",
       "2                  Unknown  @MayoIsSpicyy He is allowed to speak his opini...   \n",
       "3                     USA   HEY NY DISTRICT 10! PLEASE VOTE FOR @danielsgo...   \n",
       "4                      DMV  @YDanasmithdutra @BaddCompani @politicalblond ...   \n",
       "\n",
       "   num_of_likes  num_of_retweet language  \n",
       "0             2               1       en  \n",
       "1             0              10       en  \n",
       "2             0               0       en  \n",
       "3             1               1       en  \n",
       "4             3               0       en  "
      ]
     },
     "execution_count": 5,
     "metadata": {},
     "output_type": "execute_result"
    }
   ],
   "source": [
    "### Data Cleaning \n",
    "\n",
    "# Dropping non english tweets.\n",
    "\n",
    "df.drop(df[(df['language'] != 'en')].index, inplace=True)\n",
    "df.head()"
   ]
  },
  {
   "cell_type": "code",
   "execution_count": 7,
   "metadata": {},
   "outputs": [
    {
     "name": "stdout",
     "output_type": "stream",
     "text": [
      "235892\n"
     ]
    }
   ],
   "source": [
    "### Data Cleaning \n",
    "\n",
    "# Removing Emojis , URLs, @ , Stopwords etc.\n",
    "\n",
    "eng_stop_words = list(stopwords.words('english'))\n",
    "emoji = list(UNICODE_EMOJI.keys())\n",
    "\n",
    "words = set(nltk.corpus.words.words())\n",
    "\n",
    "eng_stopwords = []\n",
    "with open('data/stopwords.txt','r') as file:    \n",
    "      for line in file:         \n",
    "          for sw in line.split():            \n",
    "              eng_stopwords.append(sw)\n",
    "\n",
    "print(len(words))\n",
    "\n",
    "def ProcessedTweets(text):\n",
    "    text = text.lower()  #changing tweet text to small letters \n",
    "    text = ' '.join(re.sub(\"(@[A-Za-z0-9]+)|([^0-9A-Za-z \\t]) |(\\w+:\\/\\/\\S+)\", \" \", text).split()) # Removing @ and links\n",
    "    text = re.sub(r'\\@\\w+|\\#\\w+|\\d+', '', text) # removing repeating characters\n",
    "    punct = str.maketrans('', '', string.punctuation+string.digits) # removing punctuation and numbers\n",
    "    text = text.translate(punct)\n",
    "    \n",
    "    tokens = word_tokenize(text)  # tokenizing words and removing stop words from the tweet text\n",
    "    filtered_words = [w for w in tokens if w not in eng_stopwords] #check for stopwords, remove them\n",
    "    filtered_words = [w for w in filtered_words if w not in emoji] #remove emoji\n",
    "\n",
    "    #also removed the words not in NLTK words dictionary of set(nltk.corpus.words.words())\n",
    "    filtered_words1 = [w2 for w2 in filtered_words if w2 in words or w2 in {'democrats', 'dem', 'dems'}]\n",
    "    #check for synonyms using wordnet \n",
    "    \n",
    "    # lemmetizing words\n",
    "    #lemmatizer = WordNetLemmatizer() \n",
    "    #lemma_words = [lemmatizer.lemmatize(w) for w in filtered_words]\n",
    "    #text = \" \".join(lemma_words)\n",
    "    \n",
    "    text = \" \".join(filtered_words1) #without wordnet and lemmatizing\n",
    "    return text"
   ]
  },
  {
   "cell_type": "code",
   "execution_count": 8,
   "metadata": {},
   "outputs": [],
   "source": [
    "df['Processed_Tweets'] = df['tweet'].apply(ProcessedTweets)"
   ]
  },
  {
   "cell_type": "markdown",
   "metadata": {},
   "source": [
    "**Sentiment Analysis**"
   ]
  },
  {
   "cell_type": "code",
   "execution_count": 9,
   "metadata": {},
   "outputs": [],
   "source": [
    "def polarity(tweet):\n",
    "    return TextBlob(tweet).sentiment.polarity\n",
    "\n",
    "def sentimenttextblob(polarity):\n",
    "    if polarity < 0:\n",
    "        return \"Negative\"\n",
    "    elif polarity == 0:\n",
    "        return \"Neutral\"\n",
    "    else:\n",
    "        return \"Positive\" "
   ]
  },
  {
   "cell_type": "code",
   "execution_count": 11,
   "metadata": {},
   "outputs": [
    {
     "data": {
      "text/plain": [
       "Neutral     8337\n",
       "Positive    7169\n",
       "Negative    3180\n",
       "Name: Sentiment, dtype: int64"
      ]
     },
     "execution_count": 11,
     "metadata": {},
     "output_type": "execute_result"
    }
   ],
   "source": [
    "# using the functions to get the polarity and sentiment\n",
    "df['Polarity'] = df['Processed_Tweets'].apply(polarity)\n",
    "df['Sentiment'] = df['Polarity'].apply(sentimenttextblob)\n",
    "sentiments = df['Sentiment'].value_counts()\n",
    "sentiments"
   ]
  },
  {
   "cell_type": "code",
   "execution_count": 12,
   "metadata": {},
   "outputs": [
    {
     "data": {
      "text/plain": [
       "([<matplotlib.patches.Wedge at 0x24ec6b1a400>,\n",
       "  <matplotlib.patches.Wedge at 0x24ec69c4b20>,\n",
       "  <matplotlib.patches.Wedge at 0x24ec6b90280>],\n",
       " [Text(-1.0999839696622016, -0.0059385592684765955, 'Neutral'),\n",
       "  Text(0.949509958327149, -0.5553655004027311, 'Positive'),\n",
       "  Text(0.3876108820444823, 1.0294453866624973, 'Negative')],\n",
       " [Text(-0.5999912561793825, -0.003239214146441779, '44.6%'),\n",
       "  Text(0.5179145227238994, -0.3029266365833078, '38.4%'),\n",
       "  Text(0.2114241174788085, 0.5615156654522712, '17.0%')])"
      ]
     },
     "execution_count": 12,
     "metadata": {},
     "output_type": "execute_result"
    },
    {
     "data": {
      "image/png": "[encoded data removed]",
      "text/plain": [
       "<Figure size 432x288 with 1 Axes>"
      ]
     },
     "metadata": {},
     "output_type": "display_data"
    }
   ],
   "source": [
    "# Pie Chart for Sentiments\n",
    "labels = ['Neutral', 'Positive', 'Negative']\n",
    "fig1, ax1 = plt.subplots()\n",
    "ax1.pie(sentiments, labels=labels, autopct='%1.1f%%',\n",
    "        shadow=True, startangle=100)"
   ]
  },
  {
   "cell_type": "markdown",
   "metadata": {},
   "source": [
    "**Preparing for KNN**"
   ]
  },
  {
   "cell_type": "code",
   "execution_count": 13,
   "metadata": {},
   "outputs": [
    {
     "name": "stdout",
     "output_type": "stream",
     "text": [
      "training samples: {training_data.shape[0]}\n",
      "testing samples: {testing_data.shape[0]}\n"
     ]
    }
   ],
   "source": [
    "# Spliting tweets intro training and testing sets\n",
    "\n",
    "training_data = df.sample(frac=0.8, random_state=25)\n",
    "testing_data = df.drop(training_data.index)\n",
    "\n",
    "print(\"training samples: {training_data.shape[0]}\")\n",
    "print(\"testing samples: {testing_data.shape[0]}\")\n"
   ]
  },
  {
   "cell_type": "code",
   "execution_count": 11,
   "metadata": {},
   "outputs": [
    {
     "name": "stdout",
     "output_type": "stream",
     "text": [
      "Unique words in Training Data: 8160\n",
      "Unique words in Test Data: 4533\n"
     ]
    }
   ],
   "source": [
    "training_unique = (list(set(training_data['Processed_Tweets'].str.findall(\"\\w+\").sum()))) # Finding all the unique words in training data's Tweet column\n",
    "training_unique_words = len(training_unique)\n",
    "\n",
    "testing_unique = (list(set(testing_data['Processed_Tweets'].str.findall(\"\\w+\").sum()))) # Finding all the unique words in training data's Tweet column\n",
    "testing_unique_words = len(testing_unique)\n",
    "\n",
    "print(\"Unique words in Training Data: {}\".format(training_unique_words))\n",
    "print(\"Unique words in Test Data: {}\".format(testing_unique_words))\n",
    "\n",
    "#let's print the count and not the actual words, since sentiments.csv will have 100,000 tweets for over 3 months.\n",
    "#print(\"Unique words in Training Data: {}\".format(training_unique))\n",
    "#print(\"Unique words in Testing Data: {}\".format(testing_unique))"
   ]
  },
  {
   "cell_type": "code",
   "execution_count": 12,
   "metadata": {},
   "outputs": [],
   "source": [
    "#Training Data\n",
    "train_matrix = [] # Forming a 2D matrix to store all training feature vectors\n",
    "\n",
    "#Test Data\n",
    "test_matrix = [] # Forming a 2D matrix to store all test feature vectors"
   ]
  },
  {
   "cell_type": "code",
   "execution_count": 13,
   "metadata": {},
   "outputs": [],
   "source": [
    "#Create feature vector containing features count of each word, \n",
    "#for all the Processed tweets.\n",
    "\n",
    "for sentence in training_data['Processed_Tweets']:\n",
    "    train_featurevec = []\n",
    "    word = sentence.split()\n",
    "    for w in training_unique:\n",
    "        train_featurevec.append(word.count(w))\n",
    "        #print(train_featurevec)\n",
    "    train_matrix.append(train_featurevec)\n",
    "#print(train_matrix)\n",
    "#Test Data: Extracting features and storing them into the test feature matrix\n",
    "for sentence in testing_data['Processed_Tweets']:\n",
    "    test_featurevec = []\n",
    "    word = sentence.split()\n",
    "    for w in training_unique:\n",
    "        test_featurevec.append(word.count(w))\n",
    "    test_matrix.append(test_featurevec)"
   ]
  },
  {
   "cell_type": "code",
   "execution_count": 14,
   "metadata": {},
   "outputs": [],
   "source": [
    "#Calculating distances between every test instance with all the train instances. This returns a 2D distances vector.\n",
    "dists = cdist(test_matrix,train_matrix,'euclidean') "
   ]
  },
  {
   "cell_type": "code",
   "execution_count": 15,
   "metadata": {},
   "outputs": [
    {
     "data": {
      "text/plain": [
       "(4000, 16001)"
      ]
     },
     "execution_count": 15,
     "metadata": {},
     "output_type": "execute_result"
    }
   ],
   "source": [
    "#Making an empty column in our test data for predicted labels.\n",
    "testing_data['Predicted Label'] = ''\n",
    "dists.shape"
   ]
  },
  {
   "cell_type": "code",
   "execution_count": 16,
   "metadata": {},
   "outputs": [],
   "source": [
    "from sklearn.preprocessing import StandardScaler\n",
    "from sklearn.neighbors import KNeighborsClassifier\n",
    "from sklearn import metrics\n",
    "from sklearn.metrics import classification_report, confusion_matrix"
   ]
  },
  {
   "cell_type": "code",
   "execution_count": 17,
   "metadata": {},
   "outputs": [],
   "source": [
    "#Initializing lists to be used in plotting later.\n",
    "acc_list = []\n",
    "rec_list = []\n",
    "prec_list = []\n",
    "f1_list = []"
   ]
  },
  {
   "cell_type": "code",
   "execution_count": 18,
   "metadata": {},
   "outputs": [],
   "source": [
    "def classifying(train_matrix, test_matrix):\n",
    "    #training and testing feature vectors\n",
    "    \n",
    "    X_train = train_matrix \n",
    "    X_test = test_matrix \n",
    "    y_train = training_data['Sentiment']\n",
    "    y_test = testing_data['Sentiment']\n",
    "\n",
    "    for k in [1,3,5,7]:\n",
    "\n",
    "        classifier = KNeighborsClassifier(n_neighbors=k) #(n_neighbors=k,algorithm='')\n",
    "        classifier.fit(X_train, y_train) #Fitting the built-in sklearn classifier on our training data\n",
    "        predicted_label = classifier.predict(X_test) #Making the classifier to predict on the previously unseen test data.\n",
    "\n",
    "        accuracy_score = (metrics.accuracy_score(y_test,predicted_label))\n",
    "        accuracy_score = (round(accuracy_score,2))*100\n",
    "        acc_list.append(accuracy_score)\n",
    "\n",
    "        confusion_mat = confusion_matrix(y_test, predicted_label)\n",
    "        class_report = classification_report(y_test, predicted_label)\n",
    "\n",
    "        macro_precision = (metrics.precision_score(y_test, predicted_label, average='macro'))\n",
    "        macro_precision = (round(macro_precision,2))*100\n",
    "        prec_list.append(macro_precision)\n",
    "\n",
    "        macro_recall = (metrics.recall_score(y_test, predicted_label, average='macro'))\n",
    "        macro_recall = (round(macro_recall,2))*100\n",
    "        rec_list.append(macro_recall)\n",
    "\n",
    "        macro_f1 = (metrics.f1_score(y_test, predicted_label, average='macro'))\n",
    "        macro_f1 = (round(macro_f1,2))*100\n",
    "        f1_list.append(macro_f1)\n",
    "\n",
    "        print(\"\\n\\nConfusion Matrix for k = {} is:\\n\".format(k))\n",
    "        print(confusion_mat)\n",
    "        print(\"\\nClassification Report for k = {} is:\\n\".format(k))\n",
    "        print(class_report)\n",
    "        print(\"Accuracy Score for k = {0} is: {1}%\".format(k,accuracy_score))\n",
    "        print(\"Macroaveraged Recall for k = {0} is: {1}%\".format(k,macro_recall))\n",
    "        print(\"Macroaveraged Precision for k = {0} is: {1}%\".format(k,macro_precision))\n",
    "        print(\"Macroaveraged F1-score for k = {0} is: {1}%\".format(k,macro_f1))"
   ]
  },
  {
   "cell_type": "code",
   "execution_count": 19,
   "metadata": {},
   "outputs": [
    {
     "name": "stdout",
     "output_type": "stream",
     "text": [
      "\n",
      "\n",
      "Confusion Matrix for k = 1 is:\n",
      "\n",
      "[[  68  545   33]\n",
      " [   8 1760   22]\n",
      " [  16  942  606]]\n",
      "\n",
      "Classification Report for k = 1 is:\n",
      "\n",
      "              precision    recall  f1-score   support\n",
      "\n",
      "    Negative       0.74      0.11      0.18       646\n",
      "     Neutral       0.54      0.98      0.70      1790\n",
      "    Positive       0.92      0.39      0.54      1564\n",
      "\n",
      "    accuracy                           0.61      4000\n",
      "   macro avg       0.73      0.49      0.48      4000\n",
      "weighted avg       0.72      0.61      0.56      4000\n",
      "\n",
      "Accuracy Score for k = 1 is: 61.0%\n",
      "Macroaveraged Recall for k = 1 is: 49.0%\n",
      "Macroaveraged Precision for k = 1 is: 73.0%\n",
      "Macroaveraged F1-score for k = 1 is: 48.0%\n",
      "\n",
      "\n",
      "Confusion Matrix for k = 3 is:\n",
      "\n",
      "[[  27  601   18]\n",
      " [   7 1778    5]\n",
      " [  17 1074  473]]\n",
      "\n",
      "Classification Report for k = 3 is:\n",
      "\n",
      "              precision    recall  f1-score   support\n",
      "\n",
      "    Negative       0.53      0.04      0.08       646\n",
      "     Neutral       0.51      0.99      0.68      1790\n",
      "    Positive       0.95      0.30      0.46      1564\n",
      "\n",
      "    accuracy                           0.57      4000\n",
      "   macro avg       0.67      0.45      0.40      4000\n",
      "weighted avg       0.69      0.57      0.50      4000\n",
      "\n",
      "Accuracy Score for k = 3 is: 56.99999999999999%\n",
      "Macroaveraged Recall for k = 3 is: 45.0%\n",
      "Macroaveraged Precision for k = 3 is: 67.0%\n",
      "Macroaveraged F1-score for k = 3 is: 40.0%\n",
      "\n",
      "\n",
      "Confusion Matrix for k = 5 is:\n",
      "\n",
      "[[  14  624    8]\n",
      " [   1 1786    3]\n",
      " [   3 1142  419]]\n",
      "\n",
      "Classification Report for k = 5 is:\n",
      "\n",
      "              precision    recall  f1-score   support\n",
      "\n",
      "    Negative       0.78      0.02      0.04       646\n",
      "     Neutral       0.50      1.00      0.67      1790\n",
      "    Positive       0.97      0.27      0.42      1564\n",
      "\n",
      "    accuracy                           0.55      4000\n",
      "   macro avg       0.75      0.43      0.38      4000\n",
      "weighted avg       0.73      0.55      0.47      4000\n",
      "\n",
      "Accuracy Score for k = 5 is: 55.00000000000001%\n",
      "Macroaveraged Recall for k = 5 is: 43.0%\n",
      "Macroaveraged Precision for k = 5 is: 75.0%\n",
      "Macroaveraged F1-score for k = 5 is: 38.0%\n",
      "\n",
      "\n",
      "Confusion Matrix for k = 7 is:\n",
      "\n",
      "[[  10  627    9]\n",
      " [   0 1787    3]\n",
      " [   3 1173  388]]\n",
      "\n",
      "Classification Report for k = 7 is:\n",
      "\n",
      "              precision    recall  f1-score   support\n",
      "\n",
      "    Negative       0.77      0.02      0.03       646\n",
      "     Neutral       0.50      1.00      0.66      1790\n",
      "    Positive       0.97      0.25      0.40      1564\n",
      "\n",
      "    accuracy                           0.55      4000\n",
      "   macro avg       0.75      0.42      0.36      4000\n",
      "weighted avg       0.73      0.55      0.46      4000\n",
      "\n",
      "Accuracy Score for k = 7 is: 55.00000000000001%\n",
      "Macroaveraged Recall for k = 7 is: 42.0%\n",
      "Macroaveraged Precision for k = 7 is: 75.0%\n",
      "Macroaveraged F1-score for k = 7 is: 36.0%\n"
     ]
    }
   ],
   "source": [
    "classifying(train_matrix,test_matrix)"
   ]
  },
  {
   "cell_type": "code",
   "execution_count": 20,
   "metadata": {},
   "outputs": [
    {
     "data": {
      "text/plain": [
       "<function matplotlib.pyplot.show(close=None, block=None)>"
      ]
     },
     "execution_count": 20,
     "metadata": {},
     "output_type": "execute_result"
    },
    {
     "data": {
      "image/png": "[encoded data removed]",
      "text/plain": [
       "<Figure size 864x576 with 4 Axes>"
      ]
     },
     "metadata": {
      "needs_background": "light"
     },
     "output_type": "display_data"
    }
   ],
   "source": [
    "k_ls = [1,3,5,7] \n",
    "\n",
    "fig = plt.figure(figsize=(12,8))\n",
    "\n",
    "plt.subplot(2,2,1)\n",
    "plt.plot(k_ls,acc_list)\n",
    "plt.title(\"Accuracy as KNN increase\",fontsize='x-large')\n",
    "plt.xlabel(\"k Nearest Neighbors\",fontsize='large')\n",
    "plt.ylabel(\"Accuracy\",fontsize='large')\n",
    "\n",
    "plt.subplot(2,2,2)\n",
    "plt.plot(k_ls,rec_list)\n",
    "plt.title(\"Recall as KNN increase\",fontsize='x-large')\n",
    "plt.xlabel(\"k Nearest Neighbors\",fontsize='large')\n",
    "plt.ylabel(\"Recall\",fontsize='large')\n",
    "\n",
    "plt.subplot(2,2,3)\n",
    "plt.plot(k_ls,prec_list)\n",
    "plt.title(\"Precision as KNN increase\",fontsize='x-large')\n",
    "plt.xlabel(\"k Nearest Neighbors\",fontsize='large')\n",
    "plt.ylabel(\"Precision\",fontsize='large')\n",
    "\n",
    "plt.subplot(2,2,4)\n",
    "plt.plot(k_ls,f1_list)\n",
    "plt.title(\"F1 as KNN increase\",fontsize='x-large')\n",
    "plt.xlabel(\"k Nearest Neighbors\",fontsize='large')\n",
    "plt.ylabel(\"F1\",fontsize='large')\n",
    "\n",
    "fig.subplots_adjust(hspace=.5)\n",
    "\n",
    "plt.show\n"
   ]
  }
 ],
 "metadata": {
  "kernelspec": {
   "display_name": "Python 3.9.12 64-bit ('base': conda)",
   "language": "python",
   "name": "python3"
  },
  "language_info": {
   "codemirror_mode": {
    "name": "ipython",
    "version": 3
   },
   "file_extension": ".py",
   "mimetype": "text/x-python",
   "name": "python",
   "nbconvert_exporter": "python",
   "pygments_lexer": "ipython3",
   "version": "3.9.12"
  },
  "orig_nbformat": 4,
  "vscode": {
   "interpreter": {
    "hash": "2e25ac0a2ec4bd15a326cc0293192c3a8a84da789cecae9df6446c66fd6bfd19"
   }
  }
 },
 "nbformat": 4,
 "nbformat_minor": 2
}
