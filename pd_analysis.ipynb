{
 "cells": [
  {
   "cell_type": "markdown",
   "metadata": {},
   "source": [
    "Importing Libraries"
   ]
  },
  {
   "cell_type": "code",
   "execution_count": 31,
   "metadata": {},
   "outputs": [],
   "source": [
    "#libraries needed\n",
    "import pandas as pd\n",
    "import snscrape.modules.twitter as sntwitter\n",
    "import numpy as np\n",
    "import matplotlib.pyplot as plt\n",
    "import seaborn as sns\n",
    "\n",
    "import nltk\n",
    "## Download Once #run once and comment it out to avoid it downloading multiple times\n",
    "#nltk.download('stopwords') \n",
    "# nltk.download('punkt')\n",
    "# nltk.download('wordnet')\n",
    "# nltk.download('omw-1.4')\n",
    "\n",
    "from nltk.corpus import stopwords \n",
    "from nltk.tokenize import word_tokenize \n",
    "from nltk.stem import WordNetLemmatizer\n",
    "from nltk.stem.porter import PorterStemmer\n",
    "\n",
    "import string\n",
    "import re\n",
    "import textblob\n",
    "from textblob import TextBlob\n",
    "\n",
    "from wordcloud import WordCloud, STOPWORDS\n",
    "from emot.emo_unicode import UNICODE_EMOJI\n",
    "\n",
    "porter = PorterStemmer()\n",
    "\n",
    "lemmatizer = WordNetLemmatizer() \n",
    "\n",
    "from wordcloud import ImageColorGenerator\n",
    "from PIL import Image\n",
    "\n",
    "import warnings\n",
    "%matplotlib inline"
   ]
  },
  {
   "cell_type": "markdown",
   "metadata": {},
   "source": [
    "Fetchning new tweets in CSV Format"
   ]
  },
  {
   "cell_type": "code",
   "execution_count": 5,
   "metadata": {},
   "outputs": [],
   "source": [
    "# Run this code only once. If sentiments.csv exists in the working directly , no need to run this again.\n",
    "\n",
    "# query = \"(democrats OR republican OR vote OR #election2022 OR midterms OR #midterm2022 OR #vote2022 OR #democrats OR #republicans OR #GOP ) since:2022-07-01 until:2022-11-02\"\n",
    "# tweets = []\n",
    "# for i, tweet in enumerate(sntwitter.TwitterSearchScraper(query).get_items()):\n",
    "#     if i>20000:\n",
    "#         break\n",
    "#     else:\n",
    "#         tweets.append([tweet.date, tweet.id, tweet.url, tweet.user.username, tweet.sourceLabel, tweet.user.location, tweet.content, tweet.likeCount, tweet.retweetCount])\n",
    "# df = pd.DataFrame(tweets, columns = ['Date', 'ID', 'url', 'username', 'source', 'location', 'tweet', 'num_of_likes', 'num_of_retweet'])\n",
    "# df.to_csv('sentiment.csv', mode = 'a')"
   ]
  },
  {
   "cell_type": "code",
   "execution_count": 11,
   "metadata": {},
   "outputs": [
    {
     "data": {
      "text/html": [
       "<div>\n",
       "<style scoped>\n",
       "    .dataframe tbody tr th:only-of-type {\n",
       "        vertical-align: middle;\n",
       "    }\n",
       "\n",
       "    .dataframe tbody tr th {\n",
       "        vertical-align: top;\n",
       "    }\n",
       "\n",
       "    .dataframe thead th {\n",
       "        text-align: right;\n",
       "    }\n",
       "</style>\n",
       "<table border=\"1\" class=\"dataframe\">\n",
       "  <thead>\n",
       "    <tr style=\"text-align: right;\">\n",
       "      <th></th>\n",
       "      <th>Unnamed: 0</th>\n",
       "      <th>Date</th>\n",
       "      <th>ID</th>\n",
       "      <th>url</th>\n",
       "      <th>username</th>\n",
       "      <th>source</th>\n",
       "      <th>location</th>\n",
       "      <th>tweet</th>\n",
       "      <th>num_of_likes</th>\n",
       "      <th>num_of_retweet</th>\n",
       "    </tr>\n",
       "  </thead>\n",
       "  <tbody>\n",
       "    <tr>\n",
       "      <th>0</th>\n",
       "      <td>0</td>\n",
       "      <td>2022-11-01 23:59:59+00:00</td>\n",
       "      <td>1587595340760457218</td>\n",
       "      <td>https://twitter.com/loremipsum_2020/status/158...</td>\n",
       "      <td>loremipsum_2020</td>\n",
       "      <td>Twitter for iPhone</td>\n",
       "      <td>NaN</td>\n",
       "      <td>@GHOSTofSURF @ThatEricAlper Always on spot! ð¤ª</td>\n",
       "      <td>0</td>\n",
       "      <td>0</td>\n",
       "    </tr>\n",
       "    <tr>\n",
       "      <th>1</th>\n",
       "      <td>1</td>\n",
       "      <td>2022-11-01 23:59:59+00:00</td>\n",
       "      <td>1587595340458463233</td>\n",
       "      <td>https://twitter.com/grtamericanovel/status/158...</td>\n",
       "      <td>grtamericanovel</td>\n",
       "      <td>Twitter Web App</td>\n",
       "      <td>Connecticut, USA</td>\n",
       "      <td>@GreenwaldEd @MadeInTheUSANJ @RepMTG If #GOP g...</td>\n",
       "      <td>2</td>\n",
       "      <td>1</td>\n",
       "    </tr>\n",
       "  </tbody>\n",
       "</table>\n",
       "</div>"
      ],
      "text/plain": [
       "   Unnamed: 0                       Date                   ID  \\\n",
       "0           0  2022-11-01 23:59:59+00:00  1587595340760457218   \n",
       "1           1  2022-11-01 23:59:59+00:00  1587595340458463233   \n",
       "\n",
       "                                                 url         username  \\\n",
       "0  https://twitter.com/loremipsum_2020/status/158...  loremipsum_2020   \n",
       "1  https://twitter.com/grtamericanovel/status/158...  grtamericanovel   \n",
       "\n",
       "               source          location  \\\n",
       "0  Twitter for iPhone               NaN   \n",
       "1     Twitter Web App  Connecticut, USA   \n",
       "\n",
       "                                               tweet  num_of_likes  \\\n",
       "0   @GHOSTofSURF @ThatEricAlper Always on spot! ð¤ª             0   \n",
       "1  @GreenwaldEd @MadeInTheUSANJ @RepMTG If #GOP g...             2   \n",
       "\n",
       "   num_of_retweet  \n",
       "0               0  \n",
       "1               1  "
      ]
     },
     "execution_count": 11,
     "metadata": {},
     "output_type": "execute_result"
    }
   ],
   "source": [
    "df =  pd.read_csv('sentiment.csv', encoding = 'unicode_escape')\n",
    "df.head(2)"
   ]
  },
  {
   "cell_type": "code",
   "execution_count": 12,
   "metadata": {},
   "outputs": [
    {
     "data": {
      "text/plain": [
       "8155"
      ]
     },
     "execution_count": 12,
     "metadata": {},
     "output_type": "execute_result"
    }
   ],
   "source": [
    "df.location.isna().sum()"
   ]
  },
  {
   "cell_type": "code",
   "execution_count": 13,
   "metadata": {},
   "outputs": [],
   "source": [
    "df['location'] = df['location'].fillna('Unknown')"
   ]
  },
  {
   "cell_type": "markdown",
   "metadata": {},
   "source": [
    "Data Processing\n"
   ]
  },
  {
   "cell_type": "code",
   "execution_count": 17,
   "metadata": {},
   "outputs": [],
   "source": [
    "# download stopwords locally - check readme.\n",
    "eng_stop_words = list(stopwords.words('english'))"
   ]
  },
  {
   "cell_type": "code",
   "execution_count": 25,
   "metadata": {},
   "outputs": [],
   "source": [
    "emoji = list(UNICODE_EMOJI.keys())"
   ]
  },
  {
   "cell_type": "code",
   "execution_count": 33,
   "metadata": {},
   "outputs": [],
   "source": [
    "# function for preprocessing tweet in preparation for sentiment analysis\n",
    "def ProcessedTweets(text):\n",
    "    #changing tweet text to small letters\n",
    "    text = text.lower()\n",
    "    # Removing @ and links \n",
    "    text = ' '.join(re.sub(\"(@[A-Za-z0-9]+)|([^0-9A-Za-z \\t]) |(\\w+:\\/\\/\\S+)\", \" \", text).split())\n",
    "    # removing repeating characters\n",
    "    text = re.sub(r'\\@\\w+|\\#\\w+|\\d+', '', text)\n",
    "    # removing punctuation and numbers\n",
    "    punct = str.maketrans('', '', string.punctuation+string.digits)\n",
    "    text = text.translate(punct)\n",
    "    # tokenizing words and removing stop words from the tweet text\n",
    "    tokens = word_tokenize(text)  \n",
    "    filtered_words = [w for w in tokens if w not in eng_stop_words]\n",
    "    filtered_words = [w for w in filtered_words if w not in emoji]\n",
    "    # lemmetizing words\n",
    "    lemmatizer = WordNetLemmatizer() \n",
    "    lemma_words = [lemmatizer.lemmatize(w) for w in filtered_words]\n",
    "    text = \" \".join(lemma_words)\n",
    "    return text"
   ]
  },
  {
   "cell_type": "code",
   "execution_count": 34,
   "metadata": {},
   "outputs": [
    {
     "name": "stderr",
     "output_type": "stream",
     "text": [
      "[nltk_data] Downloading package punkt to\n",
      "[nltk_data]     C:\\Users\\pdhiman\\AppData\\Roaming\\nltk_data...\n",
      "[nltk_data]   Unzipping tokenizers\\punkt.zip.\n"
     ]
    },
    {
     "data": {
      "text/plain": [
       "True"
      ]
     },
     "execution_count": 34,
     "metadata": {},
     "output_type": "execute_result"
    }
   ],
   "source": []
  },
  {
   "cell_type": "code",
   "execution_count": 36,
   "metadata": {},
   "outputs": [
    {
     "name": "stderr",
     "output_type": "stream",
     "text": [
      "[nltk_data] Downloading package wordnet to\n",
      "[nltk_data]     C:\\Users\\pdhiman\\AppData\\Roaming\\nltk_data...\n"
     ]
    },
    {
     "data": {
      "text/plain": [
       "True"
      ]
     },
     "execution_count": 36,
     "metadata": {},
     "output_type": "execute_result"
    }
   ],
   "source": []
  },
  {
   "cell_type": "code",
   "execution_count": 38,
   "metadata": {},
   "outputs": [
    {
     "name": "stderr",
     "output_type": "stream",
     "text": [
      "[nltk_data] Downloading package omw-1.4 to\n",
      "[nltk_data]     C:\\Users\\pdhiman\\AppData\\Roaming\\nltk_data...\n"
     ]
    },
    {
     "data": {
      "text/plain": [
       "True"
      ]
     },
     "execution_count": 38,
     "metadata": {},
     "output_type": "execute_result"
    }
   ],
   "source": []
  },
  {
   "cell_type": "code",
   "execution_count": 39,
   "metadata": {},
   "outputs": [],
   "source": [
    "# Generate a new column called 'Processed Tweets' by applying preprocessed tweets function to the 'Tweet' column.\n",
    "df['Processed_Tweets'] = df['tweet'].apply(ProcessedTweets)"
   ]
  },
  {
   "cell_type": "code",
   "execution_count": 40,
   "metadata": {},
   "outputs": [
    {
     "data": {
      "text/html": [
       "<div>\n",
       "<style scoped>\n",
       "    .dataframe tbody tr th:only-of-type {\n",
       "        vertical-align: middle;\n",
       "    }\n",
       "\n",
       "    .dataframe tbody tr th {\n",
       "        vertical-align: top;\n",
       "    }\n",
       "\n",
       "    .dataframe thead th {\n",
       "        text-align: right;\n",
       "    }\n",
       "</style>\n",
       "<table border=\"1\" class=\"dataframe\">\n",
       "  <thead>\n",
       "    <tr style=\"text-align: right;\">\n",
       "      <th></th>\n",
       "      <th>Unnamed: 0</th>\n",
       "      <th>Date</th>\n",
       "      <th>ID</th>\n",
       "      <th>url</th>\n",
       "      <th>username</th>\n",
       "      <th>source</th>\n",
       "      <th>location</th>\n",
       "      <th>tweet</th>\n",
       "      <th>num_of_likes</th>\n",
       "      <th>num_of_retweet</th>\n",
       "      <th>Processed_Tweets</th>\n",
       "    </tr>\n",
       "  </thead>\n",
       "  <tbody>\n",
       "    <tr>\n",
       "      <th>0</th>\n",
       "      <td>0</td>\n",
       "      <td>2022-11-01 23:59:59+00:00</td>\n",
       "      <td>1587595340760457218</td>\n",
       "      <td>https://twitter.com/loremipsum_2020/status/158...</td>\n",
       "      <td>loremipsum_2020</td>\n",
       "      <td>Twitter for iPhone</td>\n",
       "      <td>Unknown</td>\n",
       "      <td>@GHOSTofSURF @ThatEricAlper Always on spot! ð¤ª</td>\n",
       "      <td>0</td>\n",
       "      <td>0</td>\n",
       "      <td>always spot ð¤ª</td>\n",
       "    </tr>\n",
       "    <tr>\n",
       "      <th>1</th>\n",
       "      <td>1</td>\n",
       "      <td>2022-11-01 23:59:59+00:00</td>\n",
       "      <td>1587595340458463233</td>\n",
       "      <td>https://twitter.com/grtamericanovel/status/158...</td>\n",
       "      <td>grtamericanovel</td>\n",
       "      <td>Twitter Web App</td>\n",
       "      <td>Connecticut, USA</td>\n",
       "      <td>@GreenwaldEd @MadeInTheUSANJ @RepMTG If #GOP g...</td>\n",
       "      <td>2</td>\n",
       "      <td>1</td>\n",
       "      <td>get majority amp dont mtg cld head house cmte ...</td>\n",
       "    </tr>\n",
       "    <tr>\n",
       "      <th>2</th>\n",
       "      <td>2</td>\n",
       "      <td>2022-11-01 23:59:59+00:00</td>\n",
       "      <td>1587595339992731649</td>\n",
       "      <td>https://twitter.com/buildurlife/status/1587595...</td>\n",
       "      <td>buildurlife</td>\n",
       "      <td>Twitter for Android</td>\n",
       "      <td>BBB ð«§</td>\n",
       "      <td>Let's vote! We have a chance to give them more...</td>\n",
       "      <td>0</td>\n",
       "      <td>0</td>\n",
       "      <td>let vote chance give exposure social medium do...</td>\n",
       "    </tr>\n",
       "    <tr>\n",
       "      <th>3</th>\n",
       "      <td>3</td>\n",
       "      <td>2022-11-01 23:59:59+00:00</td>\n",
       "      <td>1587595339783360513</td>\n",
       "      <td>https://twitter.com/MMayhem2020/status/1587595...</td>\n",
       "      <td>MMayhem2020</td>\n",
       "      <td>Twitter for iPhone</td>\n",
       "      <td>Red State USA</td>\n",
       "      <td>This is @KathyHochul NY. Get out and vote for ...</td>\n",
       "      <td>0</td>\n",
       "      <td>0</td>\n",
       "      <td>ny get vote</td>\n",
       "    </tr>\n",
       "    <tr>\n",
       "      <th>4</th>\n",
       "      <td>4</td>\n",
       "      <td>2022-11-01 23:59:59+00:00</td>\n",
       "      <td>1587595339653173258</td>\n",
       "      <td>https://twitter.com/trevormdale/status/1587595...</td>\n",
       "      <td>trevormdale</td>\n",
       "      <td>Twitter for Android</td>\n",
       "      <td>Minnesota, USA</td>\n",
       "      <td>@tophat595 @KihneSheila Thanks democrats! You ...</td>\n",
       "      <td>1</td>\n",
       "      <td>0</td>\n",
       "      <td>thanks democrat ruin everything</td>\n",
       "    </tr>\n",
       "  </tbody>\n",
       "</table>\n",
       "</div>"
      ],
      "text/plain": [
       "   Unnamed: 0                       Date                   ID  \\\n",
       "0           0  2022-11-01 23:59:59+00:00  1587595340760457218   \n",
       "1           1  2022-11-01 23:59:59+00:00  1587595340458463233   \n",
       "2           2  2022-11-01 23:59:59+00:00  1587595339992731649   \n",
       "3           3  2022-11-01 23:59:59+00:00  1587595339783360513   \n",
       "4           4  2022-11-01 23:59:59+00:00  1587595339653173258   \n",
       "\n",
       "                                                 url         username  \\\n",
       "0  https://twitter.com/loremipsum_2020/status/158...  loremipsum_2020   \n",
       "1  https://twitter.com/grtamericanovel/status/158...  grtamericanovel   \n",
       "2  https://twitter.com/buildurlife/status/1587595...      buildurlife   \n",
       "3  https://twitter.com/MMayhem2020/status/1587595...      MMayhem2020   \n",
       "4  https://twitter.com/trevormdale/status/1587595...      trevormdale   \n",
       "\n",
       "                source          location  \\\n",
       "0   Twitter for iPhone           Unknown   \n",
       "1      Twitter Web App  Connecticut, USA   \n",
       "2  Twitter for Android          BBB ð«§   \n",
       "3   Twitter for iPhone     Red State USA   \n",
       "4  Twitter for Android    Minnesota, USA   \n",
       "\n",
       "                                               tweet  num_of_likes  \\\n",
       "0   @GHOSTofSURF @ThatEricAlper Always on spot! ð¤ª             0   \n",
       "1  @GreenwaldEd @MadeInTheUSANJ @RepMTG If #GOP g...             2   \n",
       "2  Let's vote! We have a chance to give them more...             0   \n",
       "3  This is @KathyHochul NY. Get out and vote for ...             0   \n",
       "4  @tophat595 @KihneSheila Thanks democrats! You ...             1   \n",
       "\n",
       "   num_of_retweet                                   Processed_Tweets  \n",
       "0               0                                   always spot ð¤ª  \n",
       "1               1  get majority amp dont mtg cld head house cmte ...  \n",
       "2               0  let vote chance give exposure social medium do...  \n",
       "3               0                                        ny get vote  \n",
       "4               0                    thanks democrat ruin everything  "
      ]
     },
     "execution_count": 40,
     "metadata": {},
     "output_type": "execute_result"
    }
   ],
   "source": [
    "df.head(5)"
   ]
  },
  {
   "cell_type": "markdown",
   "metadata": {},
   "source": [
    "Sentiment analysis\n"
   ]
  },
  {
   "cell_type": "code",
   "execution_count": 41,
   "metadata": {},
   "outputs": [],
   "source": [
    "# Function for polarity score\n",
    "def polarity(tweet):\n",
    "    return TextBlob(tweet).sentiment.polarity\n",
    "\n",
    "# Function to get sentiment type\n",
    "#setting the conditions\n",
    "def sentimenttextblob(polarity):\n",
    "    if polarity < 0:\n",
    "        return \"Negative\"\n",
    "    elif polarity == 0:\n",
    "        return \"Neutral\"\n",
    "    else:\n",
    "        return \"Positive\" "
   ]
  },
  {
   "cell_type": "code",
   "execution_count": 42,
   "metadata": {},
   "outputs": [
    {
     "data": {
      "text/plain": [
       "Neutral     10823\n",
       "Positive     6181\n",
       "Negative     2997\n",
       "Name: Sentiment, dtype: int64"
      ]
     },
     "execution_count": 42,
     "metadata": {},
     "output_type": "execute_result"
    }
   ],
   "source": [
    "# using the functions to get the polarity and sentiment\n",
    "df['Polarity'] = df['Processed_Tweets'].apply(polarity)\n",
    "df['Sentiment'] = df['Polarity'].apply(sentimenttextblob)\n",
    "sent = df['Sentiment'].value_counts()\n",
    "sent"
   ]
  }
 ],
 "metadata": {
  "kernelspec": {
   "display_name": "Python 3.9.12 64-bit ('base': conda)",
   "language": "python",
   "name": "python3"
  },
  "language_info": {
   "codemirror_mode": {
    "name": "ipython",
    "version": 3
   },
   "file_extension": ".py",
   "mimetype": "text/x-python",
   "name": "python",
   "nbconvert_exporter": "python",
   "pygments_lexer": "ipython3",
   "version": "3.9.12"
  },
  "orig_nbformat": 4,
  "vscode": {
   "interpreter": {
    "hash": "2e25ac0a2ec4bd15a326cc0293192c3a8a84da789cecae9df6446c66fd6bfd19"
   }
  }
 },
 "nbformat": 4,
 "nbformat_minor": 2
}
