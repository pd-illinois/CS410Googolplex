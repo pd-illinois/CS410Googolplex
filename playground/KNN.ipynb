{
 "cells": [
  {
   "cell_type": "code",
   "execution_count": 2,
   "metadata": {
    "id": "pOVfdpwrsJHC"
   },
   "outputs": [],
   "source": [
    "import pandas as pd\n",
    "df = pd.read_csv('sentiment.csv', delimiter=',')"
   ]
  },
  {
   "cell_type": "code",
   "execution_count": 3,
   "metadata": {
    "colab": {
     "base_uri": "https://localhost:8080/"
    },
    "id": "FdKQeRrxsSW1",
    "outputId": "c702846c-b085-4701-e588-c8f54e77a236"
   },
   "outputs": [
    {
     "name": "stdout",
     "output_type": "stream",
     "text": [
      "Requirement already satisfied: emot in c:\\users\\i068230\\anaconda3\\lib\\site-packages (3.1)\n",
      "Note: you may need to restart the kernel to use updated packages.\n"
     ]
    }
   ],
   "source": [
    "#pip install emot"
   ]
  },
  {
   "cell_type": "code",
   "execution_count": 3,
   "metadata": {
    "id": "glg4WvsNunxL"
   },
   "outputs": [],
   "source": [
    "import numpy as np\n",
    "import scipy\n",
    "import itertools\n",
    "import matplotlib\n",
    "import matplotlib.pyplot as plt\n",
    "from scipy.spatial.distance import cdist\n",
    "from math import sqrt\n",
    "from collections import Counter\n",
    "from random import choice"
   ]
  },
  {
   "cell_type": "code",
   "execution_count": 4,
   "metadata": {
    "colab": {
     "base_uri": "https://localhost:8080/"
    },
    "id": "qQWxnMNpsUxa",
    "outputId": "a0b3a51d-9dc5-4be8-e4f7-a9f7b6f721d6"
   },
   "outputs": [
    {
     "name": "stderr",
     "output_type": "stream",
     "text": [
      "[nltk_data] Downloading package stopwords to\n",
      "[nltk_data]     C:\\Users\\I068230\\AppData\\Roaming\\nltk_data...\n",
      "[nltk_data]   Package stopwords is already up-to-date!\n",
      "[nltk_data] Downloading package punkt to\n",
      "[nltk_data]     C:\\Users\\I068230\\AppData\\Roaming\\nltk_data...\n",
      "[nltk_data]   Package punkt is already up-to-date!\n",
      "[nltk_data] Downloading package wordnet to\n",
      "[nltk_data]     C:\\Users\\I068230\\AppData\\Roaming\\nltk_data...\n",
      "[nltk_data]   Package wordnet is already up-to-date!\n",
      "[nltk_data] Downloading package omw-1.4 to\n",
      "[nltk_data]     C:\\Users\\I068230\\AppData\\Roaming\\nltk_data...\n",
      "[nltk_data]   Package omw-1.4 is already up-to-date!\n",
      "[nltk_data] Downloading package words to\n",
      "[nltk_data]     C:\\Users\\I068230\\AppData\\Roaming\\nltk_data...\n",
      "[nltk_data]   Package words is already up-to-date!\n"
     ]
    }
   ],
   "source": [
    "import nltk\n",
    "from nltk.corpus import stopwords \n",
    "from nltk.corpus import wordnet\n",
    "from nltk.tokenize import word_tokenize \n",
    "from nltk.stem import WordNetLemmatizer\n",
    "from nltk.stem.porter import PorterStemmer\n",
    "\n",
    "nltk.download('stopwords')\n",
    "nltk.download('punkt')\n",
    "nltk.download('wordnet')\n",
    "nltk.download('omw-1.4')\n",
    "nltk.download('words')\n",
    "\n",
    "import string\n",
    "import re\n",
    "import textblob\n",
    "from textblob import TextBlob\n",
    "\n",
    "from wordcloud import WordCloud, STOPWORDS\n",
    "from emot.emo_unicode import UNICODE_EMOJI\n",
    "\n",
    "porter = PorterStemmer()\n",
    "\n",
    "lemmatizer = WordNetLemmatizer() \n",
    "\n",
    "from wordcloud import ImageColorGenerator\n",
    "from PIL import Image\n",
    "\n",
    "import warnings\n",
    "%matplotlib inline"
   ]
  },
  {
   "cell_type": "code",
   "execution_count": 5,
   "metadata": {
    "id": "zSwIvFESsXbF"
   },
   "outputs": [],
   "source": [
    "df.location.isna().sum()\n",
    "df['location'] = df['location'].fillna('Unknown')"
   ]
  },
  {
   "cell_type": "code",
   "execution_count": 6,
   "metadata": {
    "id": "j9RLvsgcsaDw"
   },
   "outputs": [],
   "source": [
    "eng_stop_words = list(stopwords.words('english'))\n",
    "emoji = list(UNICODE_EMOJI.keys())"
   ]
  },
  {
   "cell_type": "code",
   "execution_count": 7,
   "metadata": {
    "id": "e-vkUW7lGsKD"
   },
   "outputs": [],
   "source": [
    "words = set(nltk.corpus.words.words())"
   ]
  },
  {
   "cell_type": "code",
   "execution_count": 8,
   "metadata": {
    "id": "OYgHuUgo2-2q"
   },
   "outputs": [],
   "source": [
    "eng_stopwords = []\n",
    "with open('stopwords.txt','r') as file:    \n",
    "      for line in file:         \n",
    "          for sw in line.split():            \n",
    "              eng_stopwords.append(sw)"
   ]
  },
  {
   "cell_type": "code",
   "execution_count": 9,
   "metadata": {
    "colab": {
     "base_uri": "https://localhost:8080/"
    },
    "id": "OQo1j-e34yAU",
    "outputId": "b38a8142-9990-4231-ea1d-017519bfaf58"
   },
   "outputs": [
    {
     "name": "stdout",
     "output_type": "stream",
     "text": [
      "235892\n"
     ]
    }
   ],
   "source": [
    "print(len(words))"
   ]
  },
  {
   "cell_type": "code",
   "execution_count": 10,
   "metadata": {
    "id": "0xErXtnE20Eu"
   },
   "outputs": [],
   "source": [
    "def ProcessedTweets1(text):\n",
    "    #changing tweet text to small letters\n",
    "    text = text.lower()\n",
    "    # Removing @ and links \n",
    "    text = ' '.join(re.sub(\"(@[A-Za-z0-9]+)|([^0-9A-Za-z \\t]) |(\\w+:\\/\\/\\S+)\", \" \", text).split())\n",
    "    # removing repeating characters\n",
    "    text = re.sub(r'\\@\\w+|\\#\\w+|\\d+', '', text)\n",
    "    # removing punctuation and numbers\n",
    "    punct = str.maketrans('', '', string.punctuation+string.digits)\n",
    "    text = text.translate(punct)\n",
    "    # tokenizing words and removing stop words from the tweet text\n",
    "    tokens = word_tokenize(text)  \n",
    "    filtered_words = [w for w in tokens if w not in eng_stopwords]\n",
    "    filtered_words = [w for w in filtered_words if w not in emoji]\n",
    "    filtered_words1 = [w2 for w2 in filtered_words if w2 in words or w2 in {'democrats', 'dem', 'dems'}]\n",
    "    # lemmetizing words\n",
    "    #lemmatizer = WordNetLemmatizer() \n",
    "    #lemma_words = [lemmatizer.lemmatize(w) for w in filtered_words]\n",
    "    #text = \" \".join(lemma_words)\n",
    "    text = \" \".join(filtered_words1)\n",
    "    return text"
   ]
  },
  {
   "cell_type": "code",
   "execution_count": 11,
   "metadata": {
    "id": "hp2hRZezvTgu"
   },
   "outputs": [],
   "source": [
    "df['Processed_Tweets'] = df['tweet'].apply(ProcessedTweets1)"
   ]
  },
  {
   "cell_type": "code",
   "execution_count": 13,
   "metadata": {
    "colab": {
     "base_uri": "https://localhost:8080/"
    },
    "id": "wXrb23PINQs1",
    "outputId": "adae8cd5-d879-4be2-e30c-156a79926bc1"
   },
   "outputs": [
    {
     "data": {
      "text/plain": [
       "0                                              always spot\n",
       "1        majority dont head house marc army vet patriot...\n",
       "2        vote chance give exposure social media dont fo...\n",
       "3                                                 get vote\n",
       "4                         thanks democrats ruin everything\n",
       "                               ...                        \n",
       "19996               join supporting bold democrats pac via\n",
       "19997    con cruelty chaos strategy passing substantive...\n",
       "19998                                b vote celebrity year\n",
       "19999                               understand people vote\n",
       "20000                                    next week den dem\n",
       "Name: Processed_Tweets, Length: 20001, dtype: object"
      ]
     },
     "execution_count": 13,
     "metadata": {},
     "output_type": "execute_result"
    }
   ],
   "source": [
    "df['Processed_Tweets']"
   ]
  },
  {
   "cell_type": "code",
   "execution_count": 14,
   "metadata": {
    "id": "eHwXiDie-CkY"
   },
   "outputs": [],
   "source": [
    "def polarity(tweet):\n",
    "    return TextBlob(tweet).sentiment.polarity\n",
    "\n",
    "# Function to get sentiment type\n",
    "#setting the conditions\n",
    "def sentimenttextblob(polarity):\n",
    "    if polarity < 0:\n",
    "        return \"Negative\"\n",
    "    elif polarity == 0:\n",
    "        return \"Neutral\"\n",
    "    else:\n",
    "        return \"Positive\" "
   ]
  },
  {
   "cell_type": "code",
   "execution_count": 15,
   "metadata": {
    "colab": {
     "base_uri": "https://localhost:8080/"
    },
    "id": "jDBiM2lmnhxE",
    "outputId": "dd9d58b0-15d5-4852-9ceb-1f71663a90f5"
   },
   "outputs": [
    {
     "data": {
      "text/plain": [
       "Neutral     11191\n",
       "Positive     5968\n",
       "Negative     2842\n",
       "Name: Sentiment, dtype: int64"
      ]
     },
     "execution_count": 15,
     "metadata": {},
     "output_type": "execute_result"
    }
   ],
   "source": [
    "# using the functions to get the polarity and sentiment\n",
    "df['Polarity'] = df['Processed_Tweets'].apply(polarity)\n",
    "df['Sentiment'] = df['Polarity'].apply(sentimenttextblob)\n",
    "sent = df['Sentiment'].value_counts()\n",
    "sent"
   ]
  },
  {
   "cell_type": "code",
   "execution_count": 16,
   "metadata": {
    "colab": {
     "base_uri": "https://localhost:8080/"
    },
    "id": "nZC0Q2FIoYbi",
    "outputId": "d25fbdf4-d53b-408f-be4b-631ccaf96de2"
   },
   "outputs": [
    {
     "name": "stdout",
     "output_type": "stream",
     "text": [
      "training samples: {training_data.shape[0]}\n",
      "testing samples: {testing_data.shape[0]}\n"
     ]
    }
   ],
   "source": [
    "training_data = df.sample(frac=0.8, random_state=25)\n",
    "testing_data = df.drop(training_data.index)\n",
    "\n",
    "print(\"training samples: {training_data.shape[0]}\")\n",
    "print(\"testing samples: {testing_data.shape[0]}\")\n"
   ]
  },
  {
   "cell_type": "code",
   "execution_count": 17,
   "metadata": {
    "colab": {
     "base_uri": "https://localhost:8080/"
    },
    "id": "_GEluWvom4OL",
    "outputId": "4773f8bf-ca01-48de-d045-a389d1edfb5d"
   },
   "outputs": [
    {
     "name": "stdout",
     "output_type": "stream",
     "text": [
      "Unique words in Training Data: 7774\n",
      "Unique words in Test Data: 4233\n"
     ]
    }
   ],
   "source": [
    "training_unique = (list(set(training_data['Processed_Tweets'].str.findall(\"\\w+\").sum()))) # Finding all the unique words in training data's Tweet column\n",
    "training_unique_words = len(training_unique)\n",
    "\n",
    "testing_unique = (list(set(testing_data['Processed_Tweets'].str.findall(\"\\w+\").sum()))) # Finding all the unique words in training data's Tweet column\n",
    "testing_unique_words = len(testing_unique)\n",
    "\n",
    "print(\"Unique words in Training Data: {}\".format(training_unique_words))\n",
    "print(\"Unique words in Test Data: {}\".format(testing_unique_words))\n",
    "\n",
    "#let's print the count and not the actual words, since sentiments.csv will have 100,000 tweets for over 3 months.\n",
    "#print(\"Unique words in Training Data: {}\".format(training_unique))\n",
    "#print(\"Unique words in Testing Data: {}\".format(testing_unique))"
   ]
  },
  {
   "cell_type": "code",
   "execution_count": 18,
   "metadata": {
    "id": "X-qIueCZpTsf"
   },
   "outputs": [],
   "source": [
    "#Training Data\n",
    "train_matrix = [] # Forming a 2D matrix to store all training feature vectors\n",
    "\n",
    "#Test Data\n",
    "test_matrix = [] # Forming a 2D matrix to store all test feature vectors"
   ]
  },
  {
   "cell_type": "code",
   "execution_count": null,
   "metadata": {},
   "outputs": [],
   "source": [
    "#Create feature vector containing features count of each word, \n",
    "#for all the Processed tweets."
   ]
  },
  {
   "cell_type": "code",
   "execution_count": 22,
   "metadata": {
    "id": "9H3sXuVDpccv"
   },
   "outputs": [],
   "source": [
    "for sentence in training_data['Processed_Tweets']:\n",
    "    train_featurevec = []\n",
    "    word = sentence.split()\n",
    "    for w in training_unique:\n",
    "        train_featurevec.append(word.count(w))\n",
    "        #print(train_featurevec)\n",
    "    train_matrix.append(train_featurevec)\n",
    "#print(train_matrix)\n",
    "#Test Data: Extracting features and storing them into the test feature matrix\n",
    "for sentence in testing_data['Processed_Tweets']:\n",
    "    test_featurevec = []\n",
    "    word = sentence.split()\n",
    "    for w in training_unique:\n",
    "        test_featurevec.append(word.count(w))\n",
    "    test_matrix.append(test_featurevec)"
   ]
  },
  {
   "cell_type": "code",
   "execution_count": 18,
   "metadata": {
    "colab": {
     "base_uri": "https://localhost:8080/"
    },
    "id": "6L4kTpzbsYGE",
    "outputId": "5e2d52ea-c923-436a-f445-ceb773f2b5e1"
   },
   "outputs": [
    {
     "name": "stdout",
     "output_type": "stream",
     "text": [
      "Shape of Training Matrix: (16001 , 7774)\n",
      "Shape of Test Matrix: (4000 , 7774)\n"
     ]
    }
   ],
   "source": [
    "print(\"Shape of Training Matrix: ({0} , {1})\".format(len(train_matrix),len(train_matrix[0])))\n",
    "print(\"Shape of Test Matrix: ({0} , {1})\".format(len(test_matrix),len(test_matrix[0])))"
   ]
  },
  {
   "cell_type": "code",
   "execution_count": 19,
   "metadata": {
    "id": "D0umW21TugBR"
   },
   "outputs": [],
   "source": [
    "#Calculating distances between every test instance with all the train instances. This returns a 2D distances vector.\n",
    "dists = cdist(test_matrix,train_matrix,'euclidean') \n",
    "\n",
    "# calculate the Euclidean distance between two vectors\n",
    "#def euclidean_distance(row1, row2):\n",
    "#\tdistance = 0.0\n",
    "#\tfor i in range(len(row1)-1):\n",
    "#\t\tdistance += (row1[i] - row2[i])**2\n",
    "#\treturn sqrt(distance)"
   ]
  },
  {
   "cell_type": "code",
   "execution_count": 20,
   "metadata": {},
   "outputs": [
    {
     "data": {
      "text/plain": [
       "(4000, 16001)"
      ]
     },
     "execution_count": 20,
     "metadata": {},
     "output_type": "execute_result"
    }
   ],
   "source": [
    "#Making an empty column in our test data for predicted labels.\n",
    "testing_data['Predicted Label'] = ''\n",
    "dists.shape"
   ]
  },
  {
   "cell_type": "code",
   "execution_count": 21,
   "metadata": {},
   "outputs": [],
   "source": [
    "from sklearn.preprocessing import StandardScaler\n",
    "from sklearn.neighbors import KNeighborsClassifier\n",
    "from sklearn import metrics\n",
    "from sklearn.metrics import classification_report, confusion_matrix"
   ]
  },
  {
   "cell_type": "code",
   "execution_count": 22,
   "metadata": {},
   "outputs": [],
   "source": [
    "#Initializing lists to be used in plotting later.\n",
    "acc_list = []\n",
    "rec_list = []\n",
    "prec_list = []\n",
    "f1_list = []"
   ]
  },
  {
   "cell_type": "code",
   "execution_count": 26,
   "metadata": {},
   "outputs": [],
   "source": [
    "def classifying(train_matrix, test_matrix):\n",
    "    #training and testing feature vectors\n",
    "    \n",
    "    X_train = train_matrix \n",
    "    X_test = test_matrix \n",
    "    y_train = training_data['Sentiment']\n",
    "    y_test = testing_data['Sentiment']\n",
    "\n",
    "    for k in [1,3,5,7]:\n",
    "\n",
    "        classifier = KNeighborsClassifier(n_neighbors=k) #(n_neighbors=k,algorithm='')\n",
    "        classifier.fit(X_train, y_train) #Fitting the built-in sklearn classifier on our training data\n",
    "        predicted_label = classifier.predict(X_test) #Making the classifier to predict on the previously unseen test data.\n",
    "\n",
    "        accuracy_score = (metrics.accuracy_score(y_test,predicted_label))\n",
    "        accuracy_score = (round(accuracy_score,2))*100\n",
    "        acc_list.append(accuracy_score)\n",
    "\n",
    "        confusion_mat = confusion_matrix(y_test, predicted_label)\n",
    "        class_report = classification_report(y_test, predicted_label)\n",
    "\n",
    "        macro_precision = (metrics.precision_score(y_test, predicted_label, average='macro'))\n",
    "        macro_precision = (round(macro_precision,2))*100\n",
    "        prec_list.append(macro_precision)\n",
    "\n",
    "        macro_recall = (metrics.recall_score(y_test, predicted_label, average='macro'))\n",
    "        macro_recall = (round(macro_recall,2))*100\n",
    "        rec_list.append(macro_recall)\n",
    "\n",
    "        macro_f1 = (metrics.f1_score(y_test, predicted_label, average='macro'))\n",
    "        macro_f1 = (round(macro_f1,2))*100\n",
    "        f1_list.append(macro_f1)\n",
    "\n",
    "        print(\"\\n\\nConfusion Matrix for k = {} is:\\n\".format(k))\n",
    "        print(confusion_mat)\n",
    "        print(\"\\nClassification Report for k = {} is:\\n\".format(k))\n",
    "        print(class_report)\n",
    "        print(\"Accuracy Score for k = {0} is: {1}%\".format(k,accuracy_score))\n",
    "        print(\"Macroaveraged Recall for k = {0} is: {1}%\".format(k,macro_recall))\n",
    "        print(\"Macroaveraged Precision for k = {0} is: {1}%\".format(k,macro_precision))\n",
    "        print(\"Macroaveraged F1-score for k = {0} is: {1}%\".format(k,macro_f1))"
   ]
  },
  {
   "cell_type": "code",
   "execution_count": 27,
   "metadata": {},
   "outputs": [
    {
     "name": "stdout",
     "output_type": "stream",
     "text": [
      "\n",
      "\n",
      "Confusion Matrix for k = 1 is:\n",
      "\n",
      "[[  90  414   34]\n",
      " [   5 2195   11]\n",
      " [  17  748  486]]\n",
      "\n",
      "Classification Report for k = 1 is:\n",
      "\n",
      "              precision    recall  f1-score   support\n",
      "\n",
      "    Negative       0.80      0.17      0.28       538\n",
      "     Neutral       0.65      0.99      0.79      2211\n",
      "    Positive       0.92      0.39      0.55      1251\n",
      "\n",
      "    accuracy                           0.69      4000\n",
      "   macro avg       0.79      0.52      0.54      4000\n",
      "weighted avg       0.76      0.69      0.64      4000\n",
      "\n",
      "Accuracy Score for k = 1 is: 69.0%\n",
      "Macroaveraged Recall for k = 1 is: 52.0%\n",
      "Macroaveraged Precision for k = 1 is: 79.0%\n",
      "Macroaveraged F1-score for k = 1 is: 54.0%\n",
      "\n",
      "\n",
      "Confusion Matrix for k = 3 is:\n",
      "\n",
      "[[  64  459   15]\n",
      " [   4 2202    5]\n",
      " [  23  848  380]]\n",
      "\n",
      "Classification Report for k = 3 is:\n",
      "\n",
      "              precision    recall  f1-score   support\n",
      "\n",
      "    Negative       0.70      0.12      0.20       538\n",
      "     Neutral       0.63      1.00      0.77      2211\n",
      "    Positive       0.95      0.30      0.46      1251\n",
      "\n",
      "    accuracy                           0.66      4000\n",
      "   macro avg       0.76      0.47      0.48      4000\n",
      "weighted avg       0.74      0.66      0.60      4000\n",
      "\n",
      "Accuracy Score for k = 3 is: 66.0%\n",
      "Macroaveraged Recall for k = 3 is: 47.0%\n",
      "Macroaveraged Precision for k = 3 is: 76.0%\n",
      "Macroaveraged F1-score for k = 3 is: 48.0%\n",
      "\n",
      "\n",
      "Confusion Matrix for k = 5 is:\n",
      "\n",
      "[[  37  488   13]\n",
      " [   1 2206    4]\n",
      " [  14  902  335]]\n",
      "\n",
      "Classification Report for k = 5 is:\n",
      "\n",
      "              precision    recall  f1-score   support\n",
      "\n",
      "    Negative       0.71      0.07      0.13       538\n",
      "     Neutral       0.61      1.00      0.76      2211\n",
      "    Positive       0.95      0.27      0.42      1251\n",
      "\n",
      "    accuracy                           0.64      4000\n",
      "   macro avg       0.76      0.44      0.43      4000\n",
      "weighted avg       0.73      0.64      0.57      4000\n",
      "\n",
      "Accuracy Score for k = 5 is: 64.0%\n",
      "Macroaveraged Recall for k = 5 is: 44.0%\n",
      "Macroaveraged Precision for k = 5 is: 76.0%\n",
      "Macroaveraged F1-score for k = 5 is: 43.0%\n",
      "\n",
      "\n",
      "Confusion Matrix for k = 7 is:\n",
      "\n",
      "[[  19  506   13]\n",
      " [   1 2207    3]\n",
      " [   7  942  302]]\n",
      "\n",
      "Classification Report for k = 7 is:\n",
      "\n",
      "              precision    recall  f1-score   support\n",
      "\n",
      "    Negative       0.70      0.04      0.07       538\n",
      "     Neutral       0.60      1.00      0.75      2211\n",
      "    Positive       0.95      0.24      0.38      1251\n",
      "\n",
      "    accuracy                           0.63      4000\n",
      "   macro avg       0.75      0.42      0.40      4000\n",
      "weighted avg       0.73      0.63      0.55      4000\n",
      "\n",
      "Accuracy Score for k = 7 is: 63.0%\n",
      "Macroaveraged Recall for k = 7 is: 42.0%\n",
      "Macroaveraged Precision for k = 7 is: 75.0%\n",
      "Macroaveraged F1-score for k = 7 is: 40.0%\n"
     ]
    }
   ],
   "source": [
    "classifying(train_matrix,test_matrix)"
   ]
  },
  {
   "cell_type": "code",
   "execution_count": 25,
   "metadata": {
    "scrolled": true
   },
   "outputs": [
    {
     "data": {
      "text/plain": [
       "<function matplotlib.pyplot.show(close=None, block=None)>"
      ]
     },
     "execution_count": 25,
     "metadata": {},
     "output_type": "execute_result"
    },
    {
     "data": {
      "image/png": "[encoded data removed]",
      "text/plain": [
       "<Figure size 864x576 with 4 Axes>"
      ]
     },
     "metadata": {
      "needs_background": "light"
     },
     "output_type": "display_data"
    }
   ],
   "source": [
    "k_ls = [1,3,5,7] \n",
    "\n",
    "fig = plt.figure(figsize=(12,8))\n",
    "\n",
    "plt.subplot(2,2,1)\n",
    "plt.plot(k_ls,acc_list)\n",
    "plt.title(\"Accuracy as KNN increase\",fontsize='x-large')\n",
    "plt.xlabel(\"k Nearest Neighbors\",fontsize='large')\n",
    "plt.ylabel(\"Accuracy\",fontsize='large')\n",
    "\n",
    "plt.subplot(2,2,2)\n",
    "plt.plot(k_ls,rec_list)\n",
    "plt.title(\"Recall as KNN increase\",fontsize='x-large')\n",
    "plt.xlabel(\"k Nearest Neighbors\",fontsize='large')\n",
    "plt.ylabel(\"Recall\",fontsize='large')\n",
    "\n",
    "plt.subplot(2,2,3)\n",
    "plt.plot(k_ls,prec_list)\n",
    "plt.title(\"Precision as KNN increase\",fontsize='x-large')\n",
    "plt.xlabel(\"k Nearest Neighbors\",fontsize='large')\n",
    "plt.ylabel(\"Precision\",fontsize='large')\n",
    "\n",
    "plt.subplot(2,2,4)\n",
    "plt.plot(k_ls,f1_list)\n",
    "plt.title(\"F1 as KNN increase\",fontsize='x-large')\n",
    "plt.xlabel(\"k Nearest Neighbors\",fontsize='large')\n",
    "plt.ylabel(\"F1\",fontsize='large')\n",
    "\n",
    "fig.subplots_adjust(hspace=.5)\n",
    "\n",
    "plt.show\n"
   ]
  }
 ],
 "metadata": {
  "colab": {
   "provenance": []
  },
  "kernelspec": {
   "display_name": "Python 3",
   "language": "python",
   "name": "python3"
  },
  "language_info": {
   "codemirror_mode": {
    "name": "ipython",
    "version": 3
   },
   "file_extension": ".py",
   "mimetype": "text/x-python",
   "name": "python",
   "nbconvert_exporter": "python",
   "pygments_lexer": "ipython3",
   "version": "3.8.5"
  }
 },
 "nbformat": 4,
 "nbformat_minor": 1
}
